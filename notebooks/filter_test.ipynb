{
  "cells": [
    {
      "cell_type": "code",
      "execution_count": 1,
      "id": "01651c49",
      "metadata": {},
      "outputs": [
        {
          "name": "stdout",
          "output_type": "stream",
          "text": [
            "True\n",
            "True\n",
            "False\n"
          ]
        },
        {
          "name": "stderr",
          "output_type": "stream",
          "text": [
            "/Users/rylanspence/opt/anaconda3/envs/diffusion/lib/python3.10/site-packages/tqdm/auto.py:22: TqdmWarning: IProgress not found. Please update jupyter and ipywidgets. See https://ipywidgets.readthedocs.io/en/stable/user_install.html\n",
            "  from .autonotebook import tqdm as notebook_tqdm\n"
          ]
        }
      ],
      "source": [
        "import torch\n",
        "\n",
        "# this ensures that the current MacOS version is at least 12.3+\n",
        "print(torch.backends.mps.is_available())\n",
        "# this ensures that the current current PyTorch installation was built with MPS activated.\n",
        "print(torch.backends.mps.is_built())\n",
        "# check if cuda is available\n",
        "print(torch.cuda.is_available())"
      ]
    },
    {
      "cell_type": "code",
      "execution_count": 2,
      "id": "ff4757b1",
      "metadata": {},
      "outputs": [],
      "source": [
        "import h5py\n",
        "import numpy as np\n",
        "import time\n",
        "import timeit\n",
        "import os\n",
        "\n",
        "# import filters\n",
        "import Estkf,Ensrf,Senkf\n",
        "import Estkf_torch,Ensrf_torch,Senkf_torch\n",
        "\n"
      ]
    },
    {
      "cell_type": "code",
      "execution_count": 3,
      "id": "e483682c",
      "metadata": {},
      "outputs": [],
      "source": [
        "def stats(x):\n",
        "    return x.shape, np.mean(x,axis=1), np.cov(x[:1000,:],ddof=1)\n",
        "\n",
        "def close(state_analysis,xb):\n",
        "    return np.allclose(state_analysis.mean(axis=1),xb.mean(axis=1))\n",
        "\n",
        "def timer(filter,filter_object):\n",
        "    \"\"\"\n",
        "    function execution time\n",
        "    \"\"\"\n",
        "    st = time.time()\n",
        "    x = filter_object._assimilate()\n",
        "    et = time.time()\n",
        "\n",
        "    # get the execution time\n",
        "    elapsed_time = et - st\n",
        "    \n",
        "    return f\"Filter: {filter.__name__} Execution time: {elapsed_time} seconds\"\n",
        "\n",
        "\n",
        "def timeit(filter,filter_object):\n",
        "    \"\"\"\n",
        "    function execution time using python timeit module\n",
        "    \"\"\"\n",
        "    %timeit filter_object._assimilate()\n",
        "    \n"
      ]
    },
    {
      "cell_type": "code",
      "execution_count": 4,
      "id": "d77507d4",
      "metadata": {},
      "outputs": [
        {
          "name": "stdout",
          "output_type": "stream",
          "text": [
            "Ensemble state matrix dimensions (ne x nx): (10, 3352598)\n",
            "Observation vector at one time step dimensions: (ny) (11,)\n"
          ]
        }
      ],
      "source": [
        "hf = h5py.File('../data/example_sim_outputs.h5',\"r\")\n",
        "zeta = np.array(hf.get('zeta'))\n",
        "obs = np.array(hf.get('obs'))\n",
        "    \n",
        "print(f\"Ensemble state matrix dimensions (ne x nx): {zeta.shape}\")\n",
        "print(f\"Observation vector at one time step dimensions: (ny) {obs.shape}\")\n",
        "\n",
        "\n",
        "state_forecast = zeta.T[:,:5]                            # ensemble of state vectors\n",
        "observations = obs                                      # model observations (adcirc output file fort.63.nc)                  \n",
        "model_observations = np.eye(obs.size)[:,:5]             # observation operator ( adcirc output file fort.61.nc)\n",
        "\n",
        "params = [state_forecast,model_observations,observations]"
      ]
    },
    {
      "cell_type": "code",
      "execution_count": 5,
      "id": "f1b1f3c2",
      "metadata": {},
      "outputs": [
        {
          "name": "stdout",
          "output_type": "stream",
          "text": [
            "Filter: Estkf Execution time: 0.1646418571472168 seconds\n",
            "62.3 ms ± 825 µs per loop (mean ± std. dev. of 7 runs, 10 loops each)\n",
            "\n",
            "\n",
            "Filter: Ensrf Execution time: 0.3864321708679199 seconds\n",
            "293 ms ± 28.5 ms per loop (mean ± std. dev. of 7 runs, 1 loop each)\n",
            "\n",
            "\n",
            "Filter: Senkf Execution time: 0.057311058044433594 seconds\n",
            "58.2 ms ± 2.03 ms per loop (mean ± std. dev. of 7 runs, 10 loops each)\n",
            "\n",
            "\n"
          ]
        },
        {
          "ename": "TypeError",
          "evalue": "ndarray() missing required argument 'shape' (pos 1)",
          "output_type": "error",
          "traceback": [
            "\u001b[0;31m---------------------------------------------------------------------------\u001b[0m",
            "\u001b[0;31mTypeError\u001b[0m                                 Traceback (most recent call last)",
            "Cell \u001b[0;32mIn[5], line 5\u001b[0m\n\u001b[1;32m      3\u001b[0m \u001b[38;5;28;01mfor\u001b[39;00m i, \u001b[38;5;28mfilter\u001b[39m \u001b[38;5;129;01min\u001b[39;00m \u001b[38;5;28menumerate\u001b[39m(filters):\n\u001b[1;32m      4\u001b[0m     filter_class\u001b[38;5;241m=\u001b[39m \u001b[38;5;28mgetattr\u001b[39m(\u001b[38;5;28mfilter\u001b[39m,\u001b[38;5;28mfilter\u001b[39m\u001b[38;5;241m.\u001b[39m\u001b[38;5;18m__name__\u001b[39m\u001b[38;5;241m.\u001b[39mlower())\n\u001b[0;32m----> 5\u001b[0m     filter_object\u001b[38;5;241m=\u001b[39m \u001b[43mfilter_class\u001b[49m\u001b[43m(\u001b[49m\u001b[38;5;241;43m*\u001b[39;49m\u001b[43mparams\u001b[49m\u001b[43m)\u001b[49m\n\u001b[1;32m      6\u001b[0m     \u001b[38;5;28mprint\u001b[39m(\u001b[38;5;124mf\u001b[39m\u001b[38;5;124m\"\u001b[39m\u001b[38;5;132;01m{\u001b[39;00mtimer(\u001b[38;5;28mfilter\u001b[39m,filter_object)\u001b[38;5;132;01m}\u001b[39;00m\u001b[38;5;124m\"\u001b[39m)\n\u001b[1;32m      7\u001b[0m     timeit(\u001b[38;5;28mfilter\u001b[39m,filter_object)\n",
            "File \u001b[0;32m<string>:6\u001b[0m, in \u001b[0;36m__init__\u001b[0;34m(self, state_forecast, model_observations, observations, obs_covariance, inf_fact, device)\u001b[0m\n",
            "\u001b[0;31mTypeError\u001b[0m: ndarray() missing required argument 'shape' (pos 1)"
          ]
        }
      ],
      "source": [
        "filters = [Estkf,Ensrf,Senkf,Estkf_torch]\n",
        "\n",
        "for i, filter in enumerate(filters):\n",
        "    filter_class= getattr(filter,filter.__name__.lower())\n",
        "    filter_object= filter_class(*params)\n",
        "    print(f\"{timer(filter,filter_object)}\")\n",
        "    timeit(filter,filter_object)\n",
        "    print(\"\\n\")\n",
        "   "
      ]
    },
    {
      "cell_type": "code",
      "execution_count": null,
      "id": "9186cc9c",
      "metadata": {},
      "outputs": [],
      "source": [
        "ensrf =  Ensrf.ensrf(*params)\n",
        "ensrf_torch =  Ensrf_torch.ensrf_torch(*params)\n",
        "\n"
      ]
    },
    {
      "cell_type": "code",
      "execution_count": null,
      "id": "154a7da4",
      "metadata": {},
      "outputs": [
        {
          "name": "stdout",
          "output_type": "stream",
          "text": [
            "260 ms ± 10.9 ms per loop (mean ± std. dev. of 7 runs, 1 loop each)\n"
          ]
        }
      ],
      "source": [
        "%timeit ensrf._assimilate()"
      ]
    },
    {
      "cell_type": "code",
      "execution_count": null,
      "id": "245ed91b",
      "metadata": {},
      "outputs": [
        {
          "data": {
            "text/plain": [
              "array([[0.3049049 , 0.30490485, 0.30490488, 0.3049049 , 0.3049049 ],\n",
              "       [0.30509534, 0.3051078 , 0.30427524, 0.30740955, 0.30782387],\n",
              "       [0.3053599 , 0.30538484, 0.30483666, 0.3106181 , 0.31072247],\n",
              "       ...,\n",
              "       [0.3063546 , 0.29884186, 0.3137718 , 0.30100474, 0.34468943],\n",
              "       [0.30635422, 0.29884523, 0.31376734, 0.30100557, 0.34468526],\n",
              "       [0.30635437, 0.2988422 , 0.31376666, 0.3010125 , 0.34467775]],\n",
              "      dtype=float32)"
            ]
          },
          "execution_count": 8,
          "metadata": {},
          "output_type": "execute_result"
        }
      ],
      "source": [
        "ensrf_torch._assimilate()"
      ]
    },
    {
      "cell_type": "code",
      "execution_count": null,
      "id": "64a55012",
      "metadata": {},
      "outputs": [],
      "source": [
        "# %timeit ensrf_torch._assimilate()"
      ]
    },
    {
      "cell_type": "code",
      "execution_count": null,
      "id": "6e27f25f",
      "metadata": {
        "collapsed": true
      },
      "outputs": [],
      "source": [
        "# print(stats(x1),\"\\n\")\n",
        "# print(stats(x2),\"\\n\")\n",
        "# print(close(x1,x2),\"\\n\")\n"
      ]
    },
    {
      "cell_type": "code",
      "execution_count": null,
      "id": "7344b21a",
      "metadata": {},
      "outputs": [],
      "source": []
    }
  ],
  "metadata": {
    "kernelspec": {
      "display_name": "Python 3.10.8 ('diffusion')",
      "language": "python",
      "name": "python3"
    },
    "language_info": {
      "codemirror_mode": {
        "name": "ipython",
        "version": 3
      },
      "file_extension": ".py",
      "mimetype": "text/x-python",
      "name": "python",
      "nbconvert_exporter": "python",
      "pygments_lexer": "ipython3",
      "version": "3.10.8"
    },
    "vscode": {
      "interpreter": {
        "hash": "966cf854f4dc86e7be1760483f3dec0205154ba09135847d466df256d6af4361"
      }
    }
  },
  "nbformat": 4,
  "nbformat_minor": 5
}
