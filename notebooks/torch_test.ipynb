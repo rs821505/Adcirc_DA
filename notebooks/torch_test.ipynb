{
 "cells": [
  {
   "cell_type": "code",
   "execution_count": 1,
   "id": "01651c49",
   "metadata": {},
   "outputs": [],
   "source": [
    "import torch"
   ]
  },
  {
   "cell_type": "code",
   "execution_count": 2,
   "id": "ff4757b1",
   "metadata": {},
   "outputs": [],
   "source": [
    "import h5py\n",
    "import numpy as np\n",
    "import time\n",
    "\n",
    "from k_filters.estkf import *\n",
    "from k_filters.estkf_torch import *\n",
    "from k_filters.ensrf import *\n",
    "from k_filters.ensrf_torch import *\n",
    "from k_filters.senkf import *\n",
    "from k_filters.senkf_torch import *"
   ]
  },
  {
   "cell_type": "code",
   "execution_count": 3,
   "id": "ad1b9d2e",
   "metadata": {},
   "outputs": [
    {
     "name": "stdout",
     "output_type": "stream",
     "text": [
      "True\n",
      "True\n",
      "False\n"
     ]
    }
   ],
   "source": [
    "# this ensures that the current MacOS version is at least 12.3+\n",
    "print(torch.backends.mps.is_available())\n",
    "# this ensures that the current current PyTorch installation was built with MPS activated.\n",
    "print(torch.backends.mps.is_built())\n",
    "# check if cuda is available\n",
    "print(torch.cuda.is_available())"
   ]
  },
  {
   "cell_type": "code",
   "execution_count": 4,
   "id": "e483682c",
   "metadata": {},
   "outputs": [],
   "source": [
    "def stats(x):\n",
    "    return x.shape, np.mean(x,axis=1), np.cov(x[:1000,:],ddof=1)\n",
    "\n",
    "def close(xa,xb):\n",
    "    return np.allclose(xa.mean(axis=1),xb.mean(axis=1))\n",
    "\n",
    "def timeit(f):\n",
    "    \"\"\"\n",
    "    function execution time\n",
    "    \"\"\"\n",
    "    st = time.time()\n",
    "    x = f._assimilate()\n",
    "    et = time.time()\n",
    "\n",
    "    # get the execution time\n",
    "    elapsed_time = et - st\n",
    "    \n",
    "    return 'Execution time:', elapsed_time, 'seconds'"
   ]
  },
  {
   "cell_type": "code",
   "execution_count": 5,
   "id": "c1a77670",
   "metadata": {},
   "outputs": [
    {
     "name": "stdout",
     "output_type": "stream",
     "text": [
      "<KeysViewHDF5 ['coords', 'observations', 'station_coords', 'station_node_inds', 'zeta']>\n",
      "wse dim = (2, 3352598) \n",
      "  obs dim = (11,)\n"
     ]
    }
   ],
   "source": [
    "# Load Test Data\n",
    "\n",
    "filename = \"sample_harvey_state3.hdf5\"\n",
    "f = h5py.File(filename, \"r\")\n",
    "print(f.keys())\n",
    "\n",
    "obs =  np.array(f.get(list(f.keys())[1]))\n",
    "zeta = np.array(f.get(list(f.keys())[4]))\n",
    "\n",
    "print(\"wse dim = {} \\n \".format(zeta.shape), \n",
    "      \"obs dim = {}\".format(obs.shape)\n",
    "     )"
   ]
  },
  {
   "cell_type": "code",
   "execution_count": 6,
   "id": "1fe0ccab",
   "metadata": {},
   "outputs": [],
   "source": [
    "xf = zeta.T\n",
    "Ne = xf.shape[1]\n",
    "sigma = 0.5\n",
    "\n",
    "Xf = xf\n",
    "R = sigma * np.ones(obs.size)\n",
    "Y = obs\n",
    "H = np.eye(obs.size)  \n",
    "HXf = H[:,::6]\n",
    "\n",
    "params = [Xf,HXf, Y, R]"
   ]
  },
  {
   "cell_type": "code",
   "execution_count": 7,
   "id": "f1b1f3c2",
   "metadata": {},
   "outputs": [],
   "source": [
    "filter_estkf = ESTKF(*params)\n",
    "x1 = filter_estkf._assimilate()\n",
    "torch_estkf = ESTKFT(*params)\n",
    "x2 = torch_estkf._assimilate()"
   ]
  },
  {
   "cell_type": "code",
   "execution_count": 8,
   "id": "6e27f25f",
   "metadata": {
    "collapsed": true
   },
   "outputs": [
    {
     "name": "stdout",
     "output_type": "stream",
     "text": [
      "((3352598, 2), array([0.54154072, 0.54413802, 0.55966858, ..., 0.30275894, 0.30275792,\n",
      "       0.30275961]), array([[ 1.62669040e-05,  1.33313593e-05,  9.91098353e-06, ...,\n",
      "        -9.89622554e-06,  1.01836389e-05, -1.56405570e-06],\n",
      "       [ 1.33313593e-05,  1.09255664e-05,  8.12243573e-06, ...,\n",
      "        -8.11034098e-06,  8.34588736e-06, -1.28180436e-06],\n",
      "       [ 9.91098353e-06,  8.12243573e-06,  6.03849354e-06, ...,\n",
      "        -6.02950189e-06,  6.20461504e-06, -9.52936728e-07],\n",
      "       ...,\n",
      "       [-9.89622554e-06, -8.11034098e-06, -6.02950189e-06, ...,\n",
      "         6.02052363e-06, -6.19537603e-06,  9.51517753e-07],\n",
      "       [ 1.01836389e-05,  8.34588736e-06,  6.20461504e-06, ...,\n",
      "        -6.19537603e-06,  6.37530661e-06, -9.79152419e-07],\n",
      "       [-1.56405570e-06, -1.28180436e-06, -9.52936728e-07, ...,\n",
      "         9.51517753e-07, -9.79152419e-07,  1.50383271e-07]])) \n",
      "\n",
      "((3352598, 2), array([0.54154072, 0.54413802, 0.55966858, ..., 0.30275894, 0.30275792,\n",
      "       0.30275961]), array([[ 1.62669051e-05,  1.33313602e-05,  9.91098419e-06, ...,\n",
      "        -9.89622620e-06,  1.01836395e-05, -1.56405580e-06],\n",
      "       [ 1.33313602e-05,  1.09255672e-05,  8.12243628e-06, ...,\n",
      "        -8.11034153e-06,  8.34588792e-06, -1.28180444e-06],\n",
      "       [ 9.91098419e-06,  8.12243628e-06,  6.03849394e-06, ...,\n",
      "        -6.02950229e-06,  6.20461545e-06, -9.52936791e-07],\n",
      "       ...,\n",
      "       [-9.89622620e-06, -8.11034153e-06, -6.02950229e-06, ...,\n",
      "         6.02052404e-06, -6.19537644e-06,  9.51517817e-07],\n",
      "       [ 1.01836395e-05,  8.34588792e-06,  6.20461545e-06, ...,\n",
      "        -6.19537644e-06,  6.37530704e-06, -9.79152484e-07],\n",
      "       [-1.56405580e-06, -1.28180444e-06, -9.52936791e-07, ...,\n",
      "         9.51517817e-07, -9.79152484e-07,  1.50383281e-07]])) \n",
      "\n",
      "True \n",
      "\n",
      "('Execution time:', 0.0342249870300293, 'seconds')\n",
      "('Execution time:', 0.02327895164489746, 'seconds')\n"
     ]
    }
   ],
   "source": [
    "print(stats(x1),\"\\n\")\n",
    "print(stats(x2),\"\\n\")\n",
    "print(close(x1,x2),\"\\n\")\n",
    "print(timeit(filter_estkf))\n",
    "print(timeit(torch_estkf))"
   ]
  },
  {
   "cell_type": "code",
   "execution_count": 9,
   "id": "684d36c7",
   "metadata": {},
   "outputs": [],
   "source": [
    "filter_ensrf = EnSRF(*params)\n",
    "x3 = filter_ensrf._assimilate()\n",
    "torch_ensrf = EnSRFT(*params)\n",
    "x4 = torch_ensrf._assimilate()"
   ]
  },
  {
   "cell_type": "code",
   "execution_count": 10,
   "id": "fc72d3ad",
   "metadata": {
    "collapsed": true
   },
   "outputs": [
    {
     "name": "stdout",
     "output_type": "stream",
     "text": [
      "((3352598, 2), array([0.54154072+0.j, 0.54413802+0.j, 0.55966858+0.j, ...,\n",
      "       0.30275894+0.j, 0.30275792+0.j, 0.30275961+0.j]), array([[ 1.62669040e-05+0.j,  1.33313593e-05+0.j,  9.91098353e-06+0.j,\n",
      "        ..., -9.89622554e-06+0.j,  1.01836389e-05+0.j,\n",
      "        -1.56405570e-06+0.j],\n",
      "       [ 1.33313593e-05+0.j,  1.09255664e-05+0.j,  8.12243573e-06+0.j,\n",
      "        ..., -8.11034098e-06+0.j,  8.34588736e-06+0.j,\n",
      "        -1.28180436e-06+0.j],\n",
      "       [ 9.91098353e-06+0.j,  8.12243573e-06+0.j,  6.03849354e-06+0.j,\n",
      "        ..., -6.02950189e-06+0.j,  6.20461504e-06+0.j,\n",
      "        -9.52936728e-07+0.j],\n",
      "       ...,\n",
      "       [-9.89622554e-06+0.j, -8.11034098e-06+0.j, -6.02950189e-06+0.j,\n",
      "        ...,  6.02052363e-06+0.j, -6.19537603e-06+0.j,\n",
      "         9.51517753e-07+0.j],\n",
      "       [ 1.01836389e-05+0.j,  8.34588736e-06+0.j,  6.20461504e-06+0.j,\n",
      "        ..., -6.19537603e-06+0.j,  6.37530661e-06+0.j,\n",
      "        -9.79152419e-07+0.j],\n",
      "       [-1.56405570e-06+0.j, -1.28180436e-06+0.j, -9.52936728e-07+0.j,\n",
      "        ...,  9.51517753e-07+0.j, -9.79152419e-07+0.j,\n",
      "         1.50383271e-07+0.j]]))\n",
      "((3352598, 2), array([0.54154072, 0.54413802, 0.55966858, ..., 0.30275894, 0.30275792,\n",
      "       0.30275961]), array([[ 1.62669040e-05,  1.33313593e-05,  9.91098353e-06, ...,\n",
      "        -9.89622554e-06,  1.01836389e-05, -1.56405570e-06],\n",
      "       [ 1.33313593e-05,  1.09255664e-05,  8.12243573e-06, ...,\n",
      "        -8.11034098e-06,  8.34588736e-06, -1.28180436e-06],\n",
      "       [ 9.91098353e-06,  8.12243573e-06,  6.03849354e-06, ...,\n",
      "        -6.02950189e-06,  6.20461504e-06, -9.52936728e-07],\n",
      "       ...,\n",
      "       [-9.89622554e-06, -8.11034098e-06, -6.02950189e-06, ...,\n",
      "         6.02052363e-06, -6.19537603e-06,  9.51517753e-07],\n",
      "       [ 1.01836389e-05,  8.34588736e-06,  6.20461504e-06, ...,\n",
      "        -6.19537603e-06,  6.37530661e-06, -9.79152419e-07],\n",
      "       [-1.56405570e-06, -1.28180436e-06, -9.52936728e-07, ...,\n",
      "         9.51517753e-07, -9.79152419e-07,  1.50383271e-07]])) \n",
      "\n",
      "True \n",
      "\n",
      "('Execution time:', 0.07562875747680664, 'seconds')\n",
      "('Execution time:', 0.021867036819458008, 'seconds')\n"
     ]
    }
   ],
   "source": [
    "print(stats(x3))\n",
    "print(stats(x4),\"\\n\")\n",
    "print(close(x3,x4),\"\\n\")\n",
    "print(timeit(filter_ensrf))\n",
    "print(timeit(torch_ensrf))"
   ]
  },
  {
   "cell_type": "code",
   "execution_count": 11,
   "id": "7b15824e",
   "metadata": {},
   "outputs": [],
   "source": [
    "filter_senkf = SEnKF(*params)\n",
    "x5 = filter_senkf._assimilate()\n",
    "torch_senkf = SEnKFT(*params)\n",
    "x6 = torch_senkf._assimilate()"
   ]
  },
  {
   "cell_type": "code",
   "execution_count": 12,
   "id": "e92853b5",
   "metadata": {
    "collapsed": true
   },
   "outputs": [
    {
     "name": "stdout",
     "output_type": "stream",
     "text": [
      "((3352598, 2), array([0.54390396, 0.54607479, 0.56110844, ..., 0.30093394, 0.30093293,\n",
      "       0.30093462]), array([[ 3.04915212e-08,  2.49889852e-08,  1.85776571e-08, ...,\n",
      "        -1.85499939e-08,  1.90887363e-08, -2.93174641e-09],\n",
      "       [ 2.49889852e-08,  2.04794434e-08,  1.52251111e-08, ...,\n",
      "        -1.52024401e-08,  1.56439604e-08, -2.40267999e-09],\n",
      "       [ 1.85776571e-08,  1.52251111e-08,  1.13188627e-08, ...,\n",
      "        -1.13020083e-08,  1.16302494e-08, -1.78623360e-09],\n",
      "       ...,\n",
      "       [-1.85499939e-08, -1.52024401e-08, -1.13020083e-08, ...,\n",
      "         1.12851790e-08, -1.16129314e-08,  1.78357380e-09],\n",
      "       [ 1.90887363e-08,  1.56439604e-08,  1.16302494e-08, ...,\n",
      "        -1.16129314e-08,  1.19502025e-08, -1.83537364e-09],\n",
      "       [-2.93174641e-09, -2.40267999e-09, -1.78623360e-09, ...,\n",
      "         1.78357380e-09, -1.83537364e-09,  2.81886134e-10]]))\n",
      "((3352598, 2), array([0.54103649, 0.54372479, 0.55936137, ..., 0.30314833, 0.30314731,\n",
      "       0.303149  ]), array([[ 6.36153926e-06,  5.21352837e-06,  3.87591339e-06, ...,\n",
      "        -3.87014194e-06,  3.98254140e-06, -6.11659215e-07],\n",
      "       [ 5.21352837e-06,  4.27268888e-06,  3.17646148e-06, ...,\n",
      "        -3.17173155e-06,  3.26384727e-06, -5.01278471e-07],\n",
      "       [ 3.87591339e-06,  3.17646148e-06,  2.36148893e-06, ...,\n",
      "        -2.35797255e-06,  2.42645449e-06, -3.72667375e-07],\n",
      "       ...,\n",
      "       [-3.87014194e-06, -3.17173155e-06, -2.35797255e-06, ...,\n",
      "         2.35446140e-06, -2.42284137e-06,  3.72112453e-07],\n",
      "       [ 3.98254140e-06,  3.26384727e-06,  2.42645449e-06, ...,\n",
      "        -2.42284137e-06,  2.49320727e-06, -3.82919612e-07],\n",
      "       [-6.11659215e-07, -5.01278471e-07, -3.72667375e-07, ...,\n",
      "         3.72112453e-07, -3.82919612e-07,  5.88107658e-08]])) \n",
      "\n",
      "False \n",
      "\n",
      "('Execution time:', 0.03147697448730469, 'seconds')\n",
      "('Execution time:', 0.3516058921813965, 'seconds')\n"
     ]
    }
   ],
   "source": [
    "print(stats(x5))\n",
    "print(stats(x6),\"\\n\")\n",
    "print(close(x5,x6),\"\\n\")\n",
    "print(timeit(filter_senkf))\n",
    "print(timeit(torch_senkf))"
   ]
  },
  {
   "cell_type": "code",
   "execution_count": null,
   "id": "7344b21a",
   "metadata": {},
   "outputs": [],
   "source": []
  }
 ],
 "metadata": {
  "kernelspec": {
   "display_name": "Python 3 (ipykernel)",
   "language": "python",
   "name": "python3"
  },
  "language_info": {
   "codemirror_mode": {
    "name": "ipython",
    "version": 3
   },
   "file_extension": ".py",
   "mimetype": "text/x-python",
   "name": "python",
   "nbconvert_exporter": "python",
   "pygments_lexer": "ipython3",
   "version": "3.10.4"
  }
 },
 "nbformat": 4,
 "nbformat_minor": 5
}
