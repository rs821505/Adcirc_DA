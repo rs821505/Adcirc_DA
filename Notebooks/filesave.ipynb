{
 "cells": [
  {
   "cell_type": "code",
   "execution_count": 1,
   "id": "26ac8de3",
   "metadata": {},
   "outputs": [],
   "source": [
    "import numpy as np\n",
    "import pandas as pd"
   ]
  },
  {
   "cell_type": "code",
   "execution_count": 2,
   "id": "4eb93157",
   "metadata": {},
   "outputs": [],
   "source": [
    "def _complex(n):\n",
    "    return np.random.random(n) + np.random.random(n) * 1j"
   ]
  },
  {
   "cell_type": "code",
   "execution_count": 18,
   "id": "b30e9fc3",
   "metadata": {},
   "outputs": [],
   "source": [
    "\n",
    "path = '/Users/rylanspence/Desktop/Git/Adcirc/Adcirc_DA/tpath/tfile.csv'\n",
    "\n",
    "for i in range(3):\n",
    "    z = _complex(int(10e4))\n",
    "    \n",
    "    if i==0:\n",
    "        np.savetxt(path,z)\n",
    "    else:\n",
    "        w = np.loadtxt(path,dtype=complex)\n",
    "        zstack = np.column_stack((w,z))\n",
    "        np.savetxt(path,zstack)\n",
    "    \n",
    "    "
   ]
  },
  {
   "cell_type": "code",
   "execution_count": 44,
   "id": "5d6a294d",
   "metadata": {},
   "outputs": [
    {
     "name": "stdout",
     "output_type": "stream",
     "text": [
      "test\n",
      "test\n"
     ]
    }
   ],
   "source": [
    "from pathlib import Path  \n",
    "\n",
    "\n",
    "\n",
    "# Create path and make directory\n",
    "fpath = Path('/Users/rylanspence/Desktop/Git/Adcirc/Adcirc_DA/tpath/tfile.csv')  \n",
    "fpath.parent.mkdir(parents=True, exist_ok=True) \n",
    "\n",
    "\n",
    "\n",
    "for step in range(3):\n",
    "    \n",
    "    z = _complex(int(10e4))\n",
    "    \n",
    "    if step==0:\n",
    "        pd.DataFrame(z).to_csv(fpath)\n",
    "    else:  \n",
    "        print('test')\n",
    "#         tdf = pd.read_csv(fpath)\n",
    "#         tdf.insert(z)\n",
    "#         tdf.to_csv(fpath,header=None,index=True)\n",
    "        pd.DataFrame(z).to_csv(fpath,\n",
    "                              mode='a',\n",
    "                              header=None,\n",
    "                              index=False)\n",
    "     "
   ]
  },
  {
   "cell_type": "code",
   "execution_count": 32,
   "id": "802062f8",
   "metadata": {},
   "outputs": [],
   "source": [
    "pd.DataFrame(z).to_csv(fpath)"
   ]
  },
  {
   "cell_type": "code",
   "execution_count": null,
   "id": "77586fee",
   "metadata": {},
   "outputs": [],
   "source": [
    "for i in range(3):\n",
    "    \n",
    "    z = _complex(int(10e4))\n",
    "    \n",
    "    if i==0:\n",
    "        np.savetxt(path,z)\n",
    "    else:\n",
    "        w = np.loadtxt(path,dtype=complex)\n",
    "        zstack = np.column_stack((w,z))\n",
    "        np.savetxt(path,zstack)"
   ]
  },
  {
   "cell_type": "code",
   "execution_count": 25,
   "id": "a1a84c9e",
   "metadata": {},
   "outputs": [
    {
     "data": {
      "text/html": [
       "<div>\n",
       "<style scoped>\n",
       "    .dataframe tbody tr th:only-of-type {\n",
       "        vertical-align: middle;\n",
       "    }\n",
       "\n",
       "    .dataframe tbody tr th {\n",
       "        vertical-align: top;\n",
       "    }\n",
       "\n",
       "    .dataframe thead th {\n",
       "        text-align: right;\n",
       "    }\n",
       "</style>\n",
       "<table border=\"1\" class=\"dataframe\">\n",
       "  <thead>\n",
       "    <tr style=\"text-align: right;\">\n",
       "      <th></th>\n",
       "      <th>0</th>\n",
       "    </tr>\n",
       "  </thead>\n",
       "  <tbody>\n",
       "    <tr>\n",
       "      <th>0</th>\n",
       "      <td>0.145193+0.364768j</td>\n",
       "    </tr>\n",
       "    <tr>\n",
       "      <th>1</th>\n",
       "      <td>0.859460+0.397588j</td>\n",
       "    </tr>\n",
       "    <tr>\n",
       "      <th>2</th>\n",
       "      <td>0.484900+0.166156j</td>\n",
       "    </tr>\n",
       "    <tr>\n",
       "      <th>3</th>\n",
       "      <td>0.127715+0.245437j</td>\n",
       "    </tr>\n",
       "    <tr>\n",
       "      <th>4</th>\n",
       "      <td>0.051368+0.317715j</td>\n",
       "    </tr>\n",
       "  </tbody>\n",
       "</table>\n",
       "</div>"
      ],
      "text/plain": [
       "                    0\n",
       "0  0.145193+0.364768j\n",
       "1  0.859460+0.397588j\n",
       "2  0.484900+0.166156j\n",
       "3  0.127715+0.245437j\n",
       "4  0.051368+0.317715j"
      ]
     },
     "execution_count": 25,
     "metadata": {},
     "output_type": "execute_result"
    }
   ],
   "source": [
    "df.head(5)"
   ]
  },
  {
   "cell_type": "code",
   "execution_count": 19,
   "id": "ad6543ca",
   "metadata": {},
   "outputs": [],
   "source": [
    "tdf = pd.read_csv(path,quotechar=\"'\")"
   ]
  },
  {
   "cell_type": "code",
   "execution_count": 11,
   "id": "c6a5d60c",
   "metadata": {},
   "outputs": [
    {
     "data": {
      "text/plain": [
       "(100000,)"
      ]
     },
     "execution_count": 11,
     "metadata": {},
     "output_type": "execute_result"
    }
   ],
   "source": [
    "z.shape"
   ]
  },
  {
   "cell_type": "code",
   "execution_count": 20,
   "id": "34770632",
   "metadata": {},
   "outputs": [
    {
     "data": {
      "text/html": [
       "<div>\n",
       "<style scoped>\n",
       "    .dataframe tbody tr th:only-of-type {\n",
       "        vertical-align: middle;\n",
       "    }\n",
       "\n",
       "    .dataframe tbody tr th {\n",
       "        vertical-align: top;\n",
       "    }\n",
       "\n",
       "    .dataframe thead th {\n",
       "        text-align: right;\n",
       "    }\n",
       "</style>\n",
       "<table border=\"1\" class=\"dataframe\">\n",
       "  <thead>\n",
       "    <tr style=\"text-align: right;\">\n",
       "      <th></th>\n",
       "      <th>(4.459533083334875636e-01+6.273614537471515762e-01j)  (2.807069507906828632e-01+5.158033556387230378e-01j)  (6.208316794893876667e-01+3.235941097782931708e-01j)</th>\n",
       "    </tr>\n",
       "  </thead>\n",
       "  <tbody>\n",
       "    <tr>\n",
       "      <th>0</th>\n",
       "      <td>(4.814284105774413458e-02+4.57208857162987980...</td>\n",
       "    </tr>\n",
       "    <tr>\n",
       "      <th>1</th>\n",
       "      <td>(2.071209571504183389e-01+9.39446266021847109...</td>\n",
       "    </tr>\n",
       "    <tr>\n",
       "      <th>2</th>\n",
       "      <td>(5.164959722361416317e-01+1.31418425846546949...</td>\n",
       "    </tr>\n",
       "    <tr>\n",
       "      <th>3</th>\n",
       "      <td>(5.032754070486367137e-01+3.54193674095613531...</td>\n",
       "    </tr>\n",
       "    <tr>\n",
       "      <th>4</th>\n",
       "      <td>(4.556646156936783321e-01+9.50372227791425827...</td>\n",
       "    </tr>\n",
       "  </tbody>\n",
       "</table>\n",
       "</div>"
      ],
      "text/plain": [
       "   (4.459533083334875636e-01+6.273614537471515762e-01j)  (2.807069507906828632e-01+5.158033556387230378e-01j)  (6.208316794893876667e-01+3.235941097782931708e-01j)\n",
       "0   (4.814284105774413458e-02+4.57208857162987980...                                                                                                               \n",
       "1   (2.071209571504183389e-01+9.39446266021847109...                                                                                                               \n",
       "2   (5.164959722361416317e-01+1.31418425846546949...                                                                                                               \n",
       "3   (5.032754070486367137e-01+3.54193674095613531...                                                                                                               \n",
       "4   (4.556646156936783321e-01+9.50372227791425827...                                                                                                               "
      ]
     },
     "execution_count": 20,
     "metadata": {},
     "output_type": "execute_result"
    }
   ],
   "source": [
    "tdf.head(5)"
   ]
  },
  {
   "cell_type": "code",
   "execution_count": 22,
   "id": "a1742392",
   "metadata": {},
   "outputs": [
    {
     "name": "stdout",
     "output_type": "stream",
     "text": [
      "<class 'pandas.core.frame.DataFrame'>\n",
      "RangeIndex: 99999 entries, 0 to 99998\n",
      "Data columns (total 1 columns):\n",
      " #   Column                                                                                                                                                             Non-Null Count  Dtype \n",
      "---  ------                                                                                                                                                             --------------  ----- \n",
      " 0    (4.459533083334875636e-01+6.273614537471515762e-01j)  (2.807069507906828632e-01+5.158033556387230378e-01j)  (6.208316794893876667e-01+3.235941097782931708e-01j)  99999 non-null  object\n",
      "dtypes: object(1)\n",
      "memory usage: 781.4+ KB\n"
     ]
    }
   ],
   "source": [
    "tdf.info()"
   ]
  },
  {
   "cell_type": "code",
   "execution_count": null,
   "id": "2e24c760",
   "metadata": {},
   "outputs": [],
   "source": []
  }
 ],
 "metadata": {
  "kernelspec": {
   "display_name": "Python 3 (ipykernel)",
   "language": "python",
   "name": "python3"
  },
  "language_info": {
   "codemirror_mode": {
    "name": "ipython",
    "version": 3
   },
   "file_extension": ".py",
   "mimetype": "text/x-python",
   "name": "python",
   "nbconvert_exporter": "python",
   "pygments_lexer": "ipython3",
   "version": "3.10.4"
  }
 },
 "nbformat": 4,
 "nbformat_minor": 5
}
