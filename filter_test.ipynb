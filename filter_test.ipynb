{
  "cells": [
    {
      "cell_type": "code",
      "execution_count": 5,
      "id": "01651c49",
      "metadata": {},
      "outputs": [
        {
          "name": "stdout",
          "output_type": "stream",
          "text": [
            "True\n",
            "True\n",
            "False\n"
          ]
        }
      ],
      "source": [
        "import torch\n",
        "\n",
        "# this ensures that the current MacOS version is at least 12.3+\n",
        "print(torch.backends.mps.is_available())\n",
        "# this ensures that the current current PyTorch installation was built with MPS activated.\n",
        "print(torch.backends.mps.is_built())\n",
        "# check if cuda is available\n",
        "print(torch.cuda.is_available())"
      ]
    },
    {
      "cell_type": "code",
      "execution_count": null,
      "id": "1df170cb",
      "metadata": {},
      "outputs": [],
      "source": []
    },
    {
      "cell_type": "code",
      "execution_count": 6,
      "id": "ff4757b1",
      "metadata": {},
      "outputs": [],
      "source": [
        "import h5py\n",
        "import numpy as np\n",
        "import time\n",
        "import timeit\n",
        "import os\n",
        "\n",
        "# import filters\n",
        "import filters as ft\n",
        "import torch_filters as tft"
      ]
    },
    {
      "cell_type": "code",
      "execution_count": null,
      "id": "21b34f94",
      "metadata": {},
      "outputs": [],
      "source": []
    },
    {
      "cell_type": "code",
      "execution_count": 7,
      "id": "e483682c",
      "metadata": {},
      "outputs": [],
      "source": [
        "def stats(x):\n",
        "    return x.shape, np.mean(x,axis=1), np.cov(x[:1000,:],ddof=1)\n",
        "\n",
        "def close(state_analysis,xb):\n",
        "    return np.allclose(state_analysis.mean(axis=1),xb.mean(axis=1))\n",
        "\n",
        "def timer(filter,filter_object):\n",
        "    \"\"\"\n",
        "    function execution time\n",
        "    \"\"\"\n",
        "    st = time.time()\n",
        "    x = filter_object._assimilate()\n",
        "    et = time.time()\n",
        "\n",
        "    # get the execution time\n",
        "    elapsed_time = et - st\n",
        "    \n",
        "    return f\"Filter: {filter.__name__} Execution time: {elapsed_time} seconds\"\n",
        "\n",
        "\n",
        "def timeit(filter,filter_object):\n",
        "    \"\"\"\n",
        "    function execution time using python timeit module\n",
        "    \"\"\"\n",
        "    %timeit filter_object._assimilate()\n",
        "    \n"
      ]
    },
    {
      "cell_type": "code",
      "execution_count": 8,
      "id": "d77507d4",
      "metadata": {},
      "outputs": [
        {
          "name": "stdout",
          "output_type": "stream",
          "text": [
            "Ensemble state matrix dimensions (ne x nx): (10, 3352598)\n",
            "Observation vector at one time step dimensions: (ny) (11,)\n"
          ]
        }
      ],
      "source": [
        "hf = h5py.File('data/example_sim_outputs.h5',\"r\")\n",
        "zeta = np.array(hf.get('zeta'))\n",
        "obs = np.array(hf.get('obs'))\n",
        "    \n",
        "print(f\"Ensemble state matrix dimensions (ne x nx): {zeta.shape}\")\n",
        "print(f\"Observation vector at one time step dimensions: (ny) {obs.shape}\")\n",
        "\n",
        "\n",
        "state_forecast = zeta.T[:,:5]                            # ensemble of state vectors\n",
        "observations = obs                                      # model observations (adcirc output file fort.63.nc)                  \n",
        "model_observations = np.eye(obs.size)[:,:5]             # observation operator ( adcirc output file fort.61.nc)\n",
        "\n",
        "params = [state_forecast,model_observations,observations]"
      ]
    },
    {
      "cell_type": "code",
      "execution_count": 12,
      "id": "b5078541",
      "metadata": {},
      "outputs": [
        {
          "data": {
            "text/plain": [
              "'filters.Estkf'"
            ]
          },
          "execution_count": 12,
          "metadata": {},
          "output_type": "execute_result"
        }
      ],
      "source": [
        "ft.Estkf.__name__.lower()"
      ]
    },
    {
      "cell_type": "code",
      "execution_count": 13,
      "id": "2dd988c5",
      "metadata": {},
      "outputs": [
        {
          "name": "stdout",
          "output_type": "stream",
          "text": [
            "Filter: Estkf Execution time: 0.22228717803955078 seconds\n",
            "62.3 ms ± 1.49 ms per loop (mean ± std. dev. of 7 runs, 10 loops each)\n",
            "\n",
            "\n",
            "Filter: Ensrf Execution time: 0.3153228759765625 seconds\n",
            "254 ms ± 2.37 ms per loop (mean ± std. dev. of 7 runs, 1 loop each)\n",
            "\n",
            "\n",
            "Filter: Senkf Execution time: 0.058332204818725586 seconds\n",
            "56.4 ms ± 1.07 ms per loop (mean ± std. dev. of 7 runs, 10 loops each)\n",
            "\n",
            "\n",
            "Filter: EstkfTorch Execution time: 0.16088294982910156 seconds\n"
          ]
        },
        {
          "ename": "AttributeError",
          "evalue": "'Tensor' object has no attribute 'copy'",
          "output_type": "error",
          "traceback": [
            "\u001b[0;31m---------------------------------------------------------------------------\u001b[0m",
            "\u001b[0;31mAttributeError\u001b[0m                            Traceback (most recent call last)",
            "Cell \u001b[0;32mIn[13], line 7\u001b[0m\n\u001b[1;32m      5\u001b[0m filter_object\u001b[38;5;241m=\u001b[39m \u001b[38;5;28mfilter\u001b[39m(\u001b[38;5;241m*\u001b[39mparams)\n\u001b[1;32m      6\u001b[0m \u001b[38;5;28mprint\u001b[39m(\u001b[38;5;124mf\u001b[39m\u001b[38;5;124m\"\u001b[39m\u001b[38;5;132;01m{\u001b[39;00mtimer(\u001b[38;5;28mfilter\u001b[39m,filter_object)\u001b[38;5;132;01m}\u001b[39;00m\u001b[38;5;124m\"\u001b[39m)\n\u001b[0;32m----> 7\u001b[0m \u001b[43mtimeit\u001b[49m\u001b[43m(\u001b[49m\u001b[38;5;28;43mfilter\u001b[39;49m\u001b[43m,\u001b[49m\u001b[43mfilter_object\u001b[49m\u001b[43m)\u001b[49m\n\u001b[1;32m      8\u001b[0m \u001b[38;5;28mprint\u001b[39m(\u001b[38;5;124m\"\u001b[39m\u001b[38;5;130;01m\\n\u001b[39;00m\u001b[38;5;124m\"\u001b[39m)\n",
            "Cell \u001b[0;32mIn[7], line 25\u001b[0m, in \u001b[0;36mtimeit\u001b[0;34m(filter, filter_object)\u001b[0m\n\u001b[1;32m     21\u001b[0m \u001b[38;5;28;01mdef\u001b[39;00m \u001b[38;5;21mtimeit\u001b[39m(\u001b[38;5;28mfilter\u001b[39m,filter_object):\n\u001b[1;32m     22\u001b[0m     \u001b[38;5;124;03m\"\"\"\u001b[39;00m\n\u001b[1;32m     23\u001b[0m \u001b[38;5;124;03m    function execution time using python timeit module\u001b[39;00m\n\u001b[1;32m     24\u001b[0m \u001b[38;5;124;03m    \"\"\"\u001b[39;00m\n\u001b[0;32m---> 25\u001b[0m     \u001b[43mget_ipython\u001b[49m\u001b[43m(\u001b[49m\u001b[43m)\u001b[49m\u001b[38;5;241;43m.\u001b[39;49m\u001b[43mrun_line_magic\u001b[49m\u001b[43m(\u001b[49m\u001b[38;5;124;43m'\u001b[39;49m\u001b[38;5;124;43mtimeit\u001b[39;49m\u001b[38;5;124;43m'\u001b[39;49m\u001b[43m,\u001b[49m\u001b[43m \u001b[49m\u001b[38;5;124;43m'\u001b[39;49m\u001b[38;5;124;43mfilter_object._assimilate()\u001b[39;49m\u001b[38;5;124;43m'\u001b[39;49m\u001b[43m)\u001b[49m\n",
            "File \u001b[0;32m~/opt/anaconda3/envs/diffusion/lib/python3.10/site-packages/IPython/core/interactiveshell.py:2364\u001b[0m, in \u001b[0;36mInteractiveShell.run_line_magic\u001b[0;34m(self, magic_name, line, _stack_depth)\u001b[0m\n\u001b[1;32m   2362\u001b[0m     kwargs[\u001b[39m'\u001b[39m\u001b[39mlocal_ns\u001b[39m\u001b[39m'\u001b[39m] \u001b[39m=\u001b[39m \u001b[39mself\u001b[39m\u001b[39m.\u001b[39mget_local_scope(stack_depth)\n\u001b[1;32m   2363\u001b[0m \u001b[39mwith\u001b[39;00m \u001b[39mself\u001b[39m\u001b[39m.\u001b[39mbuiltin_trap:\n\u001b[0;32m-> 2364\u001b[0m     result \u001b[39m=\u001b[39m fn(\u001b[39m*\u001b[39;49margs, \u001b[39m*\u001b[39;49m\u001b[39m*\u001b[39;49mkwargs)\n\u001b[1;32m   2365\u001b[0m \u001b[39mreturn\u001b[39;00m result\n",
            "File \u001b[0;32m~/opt/anaconda3/envs/diffusion/lib/python3.10/site-packages/IPython/core/magics/execution.py:1162\u001b[0m, in \u001b[0;36mExecutionMagics.timeit\u001b[0;34m(self, line, cell, local_ns)\u001b[0m\n\u001b[1;32m   1160\u001b[0m \u001b[39mfor\u001b[39;00m index \u001b[39min\u001b[39;00m \u001b[39mrange\u001b[39m(\u001b[39m0\u001b[39m, \u001b[39m10\u001b[39m):\n\u001b[1;32m   1161\u001b[0m     number \u001b[39m=\u001b[39m \u001b[39m10\u001b[39m \u001b[39m*\u001b[39m\u001b[39m*\u001b[39m index\n\u001b[0;32m-> 1162\u001b[0m     time_number \u001b[39m=\u001b[39m timer\u001b[39m.\u001b[39;49mtimeit(number)\n\u001b[1;32m   1163\u001b[0m     \u001b[39mif\u001b[39;00m time_number \u001b[39m>\u001b[39m\u001b[39m=\u001b[39m \u001b[39m0.2\u001b[39m:\n\u001b[1;32m   1164\u001b[0m         \u001b[39mbreak\u001b[39;00m\n",
            "File \u001b[0;32m~/opt/anaconda3/envs/diffusion/lib/python3.10/site-packages/IPython/core/magics/execution.py:156\u001b[0m, in \u001b[0;36mTimer.timeit\u001b[0;34m(self, number)\u001b[0m\n\u001b[1;32m    154\u001b[0m gc\u001b[39m.\u001b[39mdisable()\n\u001b[1;32m    155\u001b[0m \u001b[39mtry\u001b[39;00m:\n\u001b[0;32m--> 156\u001b[0m     timing \u001b[39m=\u001b[39m \u001b[39mself\u001b[39;49m\u001b[39m.\u001b[39;49minner(it, \u001b[39mself\u001b[39;49m\u001b[39m.\u001b[39;49mtimer)\n\u001b[1;32m    157\u001b[0m \u001b[39mfinally\u001b[39;00m:\n\u001b[1;32m    158\u001b[0m     \u001b[39mif\u001b[39;00m gcold:\n",
            "File \u001b[0;32m<magic-timeit>:1\u001b[0m, in \u001b[0;36minner\u001b[0;34m(_it, _timer)\u001b[0m\n",
            "File \u001b[0;32m~/Desktop/Git/Adcirc/Adcirc_DA/torch_filters/Estkf_torch.py:29\u001b[0m, in \u001b[0;36mestkf_torch._assimilate\u001b[0;34m(self)\u001b[0m\n\u001b[1;32m     19\u001b[0m \u001b[39mdef\u001b[39;00m \u001b[39m_assimilate\u001b[39m(\u001b[39mself\u001b[39m):\n\u001b[1;32m     20\u001b[0m     \u001b[39m\"\"\"Main run method that calls the typical forecast and anlysis steps\u001b[39;00m\n\u001b[1;32m     21\u001b[0m \u001b[39m        of the ensemble kalman filter algorithm\u001b[39;00m\n\u001b[1;32m     22\u001b[0m \n\u001b[0;32m   (...)\u001b[0m\n\u001b[1;32m     26\u001b[0m \u001b[39m        state (analysis/posterior) vector, posterior covariance\u001b[39;00m\n\u001b[1;32m     27\u001b[0m \u001b[39m    \"\"\"\u001b[39;00m\n\u001b[0;32m---> 29\u001b[0m     \u001b[39mself\u001b[39;49m\u001b[39m.\u001b[39;49mparameters_torch(\n\u001b[1;32m     30\u001b[0m         \u001b[39mself\u001b[39;49m\u001b[39m.\u001b[39;49mstate_forecast, \u001b[39mself\u001b[39;49m\u001b[39m.\u001b[39;49mmodel_observations, \u001b[39mself\u001b[39;49m\u001b[39m.\u001b[39;49mobservations\n\u001b[1;32m     31\u001b[0m     )\n\u001b[1;32m     33\u001b[0m     \u001b[39mself\u001b[39m\u001b[39m.\u001b[39mget_shapes()\n\u001b[1;32m     34\u001b[0m     \u001b[39mself\u001b[39m\u001b[39m.\u001b[39mobs_covariance \u001b[39m=\u001b[39m \u001b[39m0.1\u001b[39m \u001b[39m*\u001b[39m torch\u001b[39m.\u001b[39mones(\u001b[39mself\u001b[39m\u001b[39m.\u001b[39mny)\n",
            "File \u001b[0;32m~/Desktop/Git/Adcirc/Adcirc_DA/torch_filters/FilterTorch.py:47\u001b[0m, in \u001b[0;36mbase_filter_torch.parameters_torch\u001b[0;34m(self, state_forecast, model_observations, observations)\u001b[0m\n\u001b[1;32m     35\u001b[0m \u001b[39mdef\u001b[39;00m \u001b[39mparameters_torch\u001b[39m(\u001b[39mself\u001b[39m, state_forecast, model_observations, observations):\n\u001b[1;32m     36\u001b[0m     \u001b[39m\"\"\"Converts input parameters to torch tensors\u001b[39;00m\n\u001b[1;32m     37\u001b[0m \n\u001b[1;32m     38\u001b[0m \u001b[39m    Parameters\u001b[39;00m\n\u001b[0;32m   (...)\u001b[0m\n\u001b[1;32m     45\u001b[0m \u001b[39m        gauge observation vector\u001b[39;00m\n\u001b[1;32m     46\u001b[0m \u001b[39m    \"\"\"\u001b[39;00m\n\u001b[0;32m---> 47\u001b[0m     \u001b[39mself\u001b[39m\u001b[39m.\u001b[39mstate_forecast \u001b[39m=\u001b[39m \u001b[39mself\u001b[39m\u001b[39m.\u001b[39mto_torch(state_forecast\u001b[39m.\u001b[39;49mcopy())\n\u001b[1;32m     48\u001b[0m     \u001b[39mself\u001b[39m\u001b[39m.\u001b[39mmodel_observations \u001b[39m=\u001b[39m \u001b[39mself\u001b[39m\u001b[39m.\u001b[39mto_torch(model_observations\u001b[39m.\u001b[39mcopy())\n\u001b[1;32m     49\u001b[0m     \u001b[39mself\u001b[39m\u001b[39m.\u001b[39mobservations \u001b[39m=\u001b[39m \u001b[39mself\u001b[39m\u001b[39m.\u001b[39mto_torch(observations)\n",
            "\u001b[0;31mAttributeError\u001b[0m: 'Tensor' object has no attribute 'copy'"
          ]
        }
      ],
      "source": [
        "filters = [ft.Estkf,ft.Ensrf,ft.Senkf,tft.EstkfTorch]\n",
        "\n",
        "for i, filter in enumerate(filters):\n",
        "    # filter_class= getattr(filter,filter.__name__.lower())\n",
        "    filter_object= filter(*params)\n",
        "    print(f\"{timer(filter,filter_object)}\")\n",
        "    timeit(filter,filter_object)\n",
        "    print(\"\\n\")"
      ]
    },
    {
      "cell_type": "code",
      "execution_count": 9,
      "id": "f1b1f3c2",
      "metadata": {},
      "outputs": [
        {
          "ename": "AttributeError",
          "evalue": "module 'filters.Estkf' has no attribute 'filters.Estkf'",
          "output_type": "error",
          "traceback": [
            "\u001b[0;31m---------------------------------------------------------------------------\u001b[0m",
            "\u001b[0;31mAttributeError\u001b[0m                            Traceback (most recent call last)",
            "Cell \u001b[0;32mIn[9], line 4\u001b[0m\n\u001b[1;32m      1\u001b[0m filters \u001b[38;5;241m=\u001b[39m [ft\u001b[38;5;241m.\u001b[39mEstkf,ft\u001b[38;5;241m.\u001b[39mEnsrf,ft\u001b[38;5;241m.\u001b[39mSenkf,tft\u001b[38;5;241m.\u001b[39mEstkf_torch]\n\u001b[1;32m      3\u001b[0m \u001b[38;5;28;01mfor\u001b[39;00m i, \u001b[38;5;28mfilter\u001b[39m \u001b[38;5;129;01min\u001b[39;00m \u001b[38;5;28menumerate\u001b[39m(filters):\n\u001b[0;32m----> 4\u001b[0m     filter_class\u001b[38;5;241m=\u001b[39m \u001b[38;5;28;43mgetattr\u001b[39;49m\u001b[43m(\u001b[49m\u001b[38;5;28;43mfilter\u001b[39;49m\u001b[43m,\u001b[49m\u001b[38;5;28;43mfilter\u001b[39;49m\u001b[38;5;241;43m.\u001b[39;49m\u001b[38;5;18;43m__name__\u001b[39;49m\u001b[38;5;241;43m.\u001b[39;49m\u001b[43mlower\u001b[49m\u001b[43m(\u001b[49m\u001b[43m)\u001b[49m\u001b[43m)\u001b[49m\n\u001b[1;32m      5\u001b[0m     filter_object\u001b[38;5;241m=\u001b[39m filter_class(\u001b[38;5;241m*\u001b[39mparams)\n\u001b[1;32m      6\u001b[0m     \u001b[38;5;28mprint\u001b[39m(\u001b[38;5;124mf\u001b[39m\u001b[38;5;124m\"\u001b[39m\u001b[38;5;132;01m{\u001b[39;00mtimer(\u001b[38;5;28mfilter\u001b[39m,filter_object)\u001b[38;5;132;01m}\u001b[39;00m\u001b[38;5;124m\"\u001b[39m)\n",
            "\u001b[0;31mAttributeError\u001b[0m: module 'filters.Estkf' has no attribute 'filters.Estkf'"
          ]
        }
      ],
      "source": [
        "# filters = [ft.Estkf,ft.Ensrf,ft.Senkf,tft.Estkf_torch]\n",
        "\n",
        "# for i, filter in enumerate(filters):\n",
        "#     filter_class= getattr(filter,filter.__name__.lower())\n",
        "#     filter_object= filter_class(*params)\n",
        "#     print(f\"{timer(filter,filter_object)}\")\n",
        "#     timeit(filter,filter_object)\n",
        "#     print(\"\\n\")\n",
        "   "
      ]
    },
    {
      "cell_type": "code",
      "execution_count": null,
      "id": "6e27f25f",
      "metadata": {
        "collapsed": true
      },
      "outputs": [],
      "source": [
        "# print(stats(x1),\"\\n\")\n",
        "# print(stats(x2),\"\\n\")\n",
        "# print(close(x1,x2),\"\\n\")\n"
      ]
    },
    {
      "cell_type": "code",
      "execution_count": null,
      "id": "7344b21a",
      "metadata": {},
      "outputs": [],
      "source": []
    }
  ],
  "metadata": {
    "kernelspec": {
      "display_name": "Python 3.10.8 ('diffusion')",
      "language": "python",
      "name": "python3"
    },
    "language_info": {
      "codemirror_mode": {
        "name": "ipython",
        "version": 3
      },
      "file_extension": ".py",
      "mimetype": "text/x-python",
      "name": "python",
      "nbconvert_exporter": "python",
      "pygments_lexer": "ipython3",
      "version": "3.10.8"
    },
    "vscode": {
      "interpreter": {
        "hash": "966cf854f4dc86e7be1760483f3dec0205154ba09135847d466df256d6af4361"
      }
    }
  },
  "nbformat": 4,
  "nbformat_minor": 5
}
