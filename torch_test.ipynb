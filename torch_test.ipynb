{
 "cells": [
  {
   "cell_type": "code",
   "execution_count": 1,
   "id": "01651c49",
   "metadata": {},
   "outputs": [],
   "source": [
    "import torch"
   ]
  },
  {
   "cell_type": "code",
   "execution_count": 2,
   "id": "ff4757b1",
   "metadata": {},
   "outputs": [],
   "source": [
    "import h5py\n",
    "import numpy as np\n",
    "import time\n",
    "\n",
    "from k_filters.estkf import *\n",
    "from k_filters.estkf_torch import *"
   ]
  },
  {
   "cell_type": "code",
   "execution_count": 28,
   "id": "ad1b9d2e",
   "metadata": {},
   "outputs": [
    {
     "name": "stdout",
     "output_type": "stream",
     "text": [
      "True\n",
      "True\n",
      "False\n"
     ]
    }
   ],
   "source": [
    "# this ensures that the current MacOS version is at least 12.3+\n",
    "print(torch.backends.mps.is_available())\n",
    "# this ensures that the current current PyTorch installation was built with MPS activated.\n",
    "print(torch.backends.mps.is_built())\n",
    "# check if cuda is available\n",
    "print(torch.cuda.is_available())"
   ]
  },
  {
   "cell_type": "code",
   "execution_count": 40,
   "id": "e483682c",
   "metadata": {},
   "outputs": [],
   "source": [
    "def stats(x):\n",
    "    return xa.shape, np.mean(x,axis=1), np.cov(x[:1000,:],ddof=1)\n",
    "\n",
    "def timeit(f):\n",
    "    \"\"\"\n",
    "    function execution time\n",
    "    \"\"\"\n",
    "    st = time.time()\n",
    "    x = f._assimilate()\n",
    "    et = time.time()\n",
    "\n",
    "    # get the execution time\n",
    "    elapsed_time = et - st\n",
    "    \n",
    "    return 'Execution time:', elapsed_time, 'seconds'"
   ]
  },
  {
   "cell_type": "code",
   "execution_count": 4,
   "id": "c1a77670",
   "metadata": {},
   "outputs": [
    {
     "name": "stdout",
     "output_type": "stream",
     "text": [
      "<KeysViewHDF5 ['coords', 'observations', 'station_coords', 'station_node_inds', 'zeta']>\n",
      "wse dim = (2, 3352598) \n",
      "  obs dim = (11,)\n"
     ]
    }
   ],
   "source": [
    "# Load Test Data\n",
    "\n",
    "filename = \"sample_harvey_state3.hdf5\"\n",
    "f = h5py.File(filename, \"r\")\n",
    "print(f.keys())\n",
    "\n",
    "obs =  np.array(f.get(list(f.keys())[1]))\n",
    "zeta = np.array(f.get(list(f.keys())[4]))\n",
    "\n",
    "print(\"wse dim = {} \\n \".format(zeta.shape), \n",
    "      \"obs dim = {}\".format(obs.shape)\n",
    "     )"
   ]
  },
  {
   "cell_type": "code",
   "execution_count": 5,
   "id": "1fe0ccab",
   "metadata": {},
   "outputs": [],
   "source": [
    "xf = zeta.T\n",
    "Ne = xf.shape[1]\n",
    "sigma = 0.5\n",
    "\n",
    "Xf = xf\n",
    "R = sigma * np.ones(obs.size)\n",
    "Y = obs\n",
    "H = np.eye(obs.size)  \n",
    "HXf = H[:,::6]\n",
    "\n",
    "params = [Xf,HXf, Y, R]"
   ]
  },
  {
   "cell_type": "code",
   "execution_count": 6,
   "id": "f1b1f3c2",
   "metadata": {},
   "outputs": [],
   "source": [
    "filter_estkf = ESTKF(*params)\n",
    "xa = filter_estkf._assimilate()"
   ]
  },
  {
   "cell_type": "code",
   "execution_count": 7,
   "id": "2233a856",
   "metadata": {},
   "outputs": [],
   "source": [
    "torch_estkf = ESTKFT(*params)\n",
    "xatorch = torch_estkf._assimilate()"
   ]
  },
  {
   "cell_type": "code",
   "execution_count": 41,
   "id": "6e27f25f",
   "metadata": {},
   "outputs": [
    {
     "data": {
      "text/plain": [
       "((3352598, 2),\n",
       " array([0.54154072, 0.54413802, 0.55966858, ..., 0.30275894, 0.30275792,\n",
       "        0.30275961]),\n",
       " array([[ 1.62669040e-05,  1.33313593e-05,  9.91098353e-06, ...,\n",
       "         -9.89622554e-06,  1.01836389e-05, -1.56405570e-06],\n",
       "        [ 1.33313593e-05,  1.09255664e-05,  8.12243573e-06, ...,\n",
       "         -8.11034098e-06,  8.34588736e-06, -1.28180436e-06],\n",
       "        [ 9.91098353e-06,  8.12243573e-06,  6.03849354e-06, ...,\n",
       "         -6.02950189e-06,  6.20461504e-06, -9.52936728e-07],\n",
       "        ...,\n",
       "        [-9.89622554e-06, -8.11034098e-06, -6.02950189e-06, ...,\n",
       "          6.02052363e-06, -6.19537603e-06,  9.51517753e-07],\n",
       "        [ 1.01836389e-05,  8.34588736e-06,  6.20461504e-06, ...,\n",
       "         -6.19537603e-06,  6.37530661e-06, -9.79152419e-07],\n",
       "        [-1.56405570e-06, -1.28180436e-06, -9.52936728e-07, ...,\n",
       "          9.51517753e-07, -9.79152419e-07,  1.50383271e-07]]))"
      ]
     },
     "execution_count": 41,
     "metadata": {},
     "output_type": "execute_result"
    }
   ],
   "source": [
    "stats(xa)"
   ]
  },
  {
   "cell_type": "code",
   "execution_count": 42,
   "id": "e7a9bc63",
   "metadata": {},
   "outputs": [
    {
     "data": {
      "text/plain": [
       "((3352598, 2),\n",
       " array([0.54154072, 0.54413802, 0.55966858, ..., 0.30275894, 0.30275792,\n",
       "        0.30275961]),\n",
       " array([[ 1.62669051e-05,  1.33313602e-05,  9.91098419e-06, ...,\n",
       "         -9.89622620e-06,  1.01836395e-05, -1.56405580e-06],\n",
       "        [ 1.33313602e-05,  1.09255672e-05,  8.12243628e-06, ...,\n",
       "         -8.11034153e-06,  8.34588792e-06, -1.28180444e-06],\n",
       "        [ 9.91098419e-06,  8.12243628e-06,  6.03849394e-06, ...,\n",
       "         -6.02950229e-06,  6.20461545e-06, -9.52936791e-07],\n",
       "        ...,\n",
       "        [-9.89622620e-06, -8.11034153e-06, -6.02950229e-06, ...,\n",
       "          6.02052404e-06, -6.19537644e-06,  9.51517817e-07],\n",
       "        [ 1.01836395e-05,  8.34588792e-06,  6.20461545e-06, ...,\n",
       "         -6.19537644e-06,  6.37530704e-06, -9.79152484e-07],\n",
       "        [-1.56405580e-06, -1.28180444e-06, -9.52936791e-07, ...,\n",
       "          9.51517817e-07, -9.79152484e-07,  1.50383281e-07]]))"
      ]
     },
     "execution_count": 42,
     "metadata": {},
     "output_type": "execute_result"
    }
   ],
   "source": [
    "stats(xatorch)"
   ]
  },
  {
   "cell_type": "code",
   "execution_count": 17,
   "id": "ac077147",
   "metadata": {},
   "outputs": [
    {
     "data": {
      "text/plain": [
       "True"
      ]
     },
     "execution_count": 17,
     "metadata": {},
     "output_type": "execute_result"
    }
   ],
   "source": [
    "np.allclose(mean2,meant)"
   ]
  },
  {
   "cell_type": "code",
   "execution_count": 35,
   "id": "044ad04c",
   "metadata": {},
   "outputs": [
    {
     "data": {
      "text/plain": [
       "('Execution time:', 0.05569720268249512, 'seconds')"
      ]
     },
     "execution_count": 35,
     "metadata": {},
     "output_type": "execute_result"
    }
   ],
   "source": [
    "timeit(filter_estkf)"
   ]
  },
  {
   "cell_type": "code",
   "execution_count": 34,
   "id": "684d36c7",
   "metadata": {},
   "outputs": [
    {
     "data": {
      "text/plain": [
       "('Execution time:', 0.03415107727050781, 'seconds')"
      ]
     },
     "execution_count": 34,
     "metadata": {},
     "output_type": "execute_result"
    }
   ],
   "source": [
    "timeit(torch_estkf)"
   ]
  },
  {
   "cell_type": "code",
   "execution_count": null,
   "id": "fc72d3ad",
   "metadata": {},
   "outputs": [],
   "source": []
  }
 ],
 "metadata": {
  "kernelspec": {
   "display_name": "Python 3 (ipykernel)",
   "language": "python",
   "name": "python3"
  },
  "language_info": {
   "codemirror_mode": {
    "name": "ipython",
    "version": 3
   },
   "file_extension": ".py",
   "mimetype": "text/x-python",
   "name": "python",
   "nbconvert_exporter": "python",
   "pygments_lexer": "ipython3",
   "version": "3.10.4"
  }
 },
 "nbformat": 4,
 "nbformat_minor": 5
}
