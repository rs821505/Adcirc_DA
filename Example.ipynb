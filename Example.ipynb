{
 "cells": [
  {
   "cell_type": "code",
   "execution_count": 1,
   "id": "95ed1e1b",
   "metadata": {},
   "outputs": [],
   "source": [
    "import os\n",
    "import h5py\n",
    "import numpy as np\n",
    "import torch\n",
    "\n",
    "from k_filters.ensrf import *\n",
    "from k_filters.estkf import *\n",
    "from k_filters.senkf import *\n"
   ]
  },
  {
   "cell_type": "code",
   "execution_count": 2,
   "id": "060f7728",
   "metadata": {},
   "outputs": [
    {
     "name": "stdout",
     "output_type": "stream",
     "text": [
      "<KeysViewHDF5 ['coords', 'observations', 'station_coords', 'station_node_inds', 'zeta']>\n",
      "wse dim = (2, 3352598) \n",
      "  obs dim = (11,)\n"
     ]
    }
   ],
   "source": [
    "###LOAD TEST DATA\n",
    "\n",
    "filename = \"sample_harvey_state3.hdf5\"\n",
    "f = h5py.File(filename, \"r\")\n",
    "print(f.keys())\n",
    "\n",
    "obs =  np.array(f.get(list(f.keys())[1]))\n",
    "zeta = np.array(f.get(list(f.keys())[4]))\n",
    "\n",
    "print(\"wse dim = {} \\n \".format(zeta.shape), \n",
    "      \"obs dim = {}\".format(obs.shape)\n",
    "     )"
   ]
  },
  {
   "cell_type": "code",
   "execution_count": 3,
   "id": "8b85f2b5",
   "metadata": {},
   "outputs": [],
   "source": [
    "xf = zeta.T\n",
    "Ne = xf.shape[1]\n",
    "sigma = 0.5\n",
    "\n",
    "Xf = xf\n",
    "R = sigma * np.ones(obs.size)\n",
    "Y = obs\n",
    "H = np.eye(obs.size)  \n",
    "HXf = H[:,::6]\n",
    "\n",
    "params = [Xf,HXf, Y, R]"
   ]
  },
  {
   "cell_type": "code",
   "execution_count": 4,
   "id": "3cbae1bd",
   "metadata": {},
   "outputs": [],
   "source": [
    "filter_ensrf = EnSRF(*params)\n",
    "filter_estkf = ESTKF(*params)\n",
    "filter_senkf = SEnKF(*params)"
   ]
  },
  {
   "cell_type": "code",
   "execution_count": 5,
   "id": "e4ea7de6",
   "metadata": {},
   "outputs": [],
   "source": [
    "xa1 = filter_ensrf._assimilate()\n",
    "xa2 = filter_estkf._assimilate()\n",
    "xa3 = filter_senkf._assimilate()"
   ]
  },
  {
   "cell_type": "code",
   "execution_count": 7,
   "id": "fccdcfb3",
   "metadata": {},
   "outputs": [
    {
     "name": "stdout",
     "output_type": "stream",
     "text": [
      "Square Root Filter: \n",
      "xa dim = (3352598, 2)\n",
      " mean = [0.54154072+0.j 0.54413802+0.j 0.55966858+0.j ... 0.30275894+0.j\n",
      " 0.30275792+0.j 0.30275961+0.j]\n",
      " cov = [[ 1.62669040e-05+0.j  1.33313593e-05+0.j  9.91098353e-06+0.j ...\n",
      "  -9.89622554e-06+0.j  1.01836389e-05+0.j -1.56405570e-06+0.j]\n",
      " [ 1.33313593e-05+0.j  1.09255664e-05+0.j  8.12243573e-06+0.j ...\n",
      "  -8.11034098e-06+0.j  8.34588736e-06+0.j -1.28180436e-06+0.j]\n",
      " [ 9.91098353e-06+0.j  8.12243573e-06+0.j  6.03849354e-06+0.j ...\n",
      "  -6.02950189e-06+0.j  6.20461504e-06+0.j -9.52936728e-07+0.j]\n",
      " ...\n",
      " [-9.89622554e-06+0.j -8.11034098e-06+0.j -6.02950189e-06+0.j ...\n",
      "   6.02052363e-06+0.j -6.19537603e-06+0.j  9.51517753e-07+0.j]\n",
      " [ 1.01836389e-05+0.j  8.34588736e-06+0.j  6.20461504e-06+0.j ...\n",
      "  -6.19537603e-06+0.j  6.37530661e-06+0.j -9.79152419e-07+0.j]\n",
      " [-1.56405570e-06+0.j -1.28180436e-06+0.j -9.52936728e-07+0.j ...\n",
      "   9.51517753e-07+0.j -9.79152419e-07+0.j  1.50383271e-07+0.j]]\n",
      "\n",
      "Error Subspace Filter: \n",
      "xa dim = (3352598, 2)\n",
      " mean = [0.54154072 0.54413802 0.55966858 ... 0.30275894 0.30275792 0.30275961]\n",
      " cov = [[ 1.62669040e-05  1.33313593e-05  9.91098353e-06 ... -9.89622554e-06\n",
      "   1.01836389e-05 -1.56405570e-06]\n",
      " [ 1.33313593e-05  1.09255664e-05  8.12243573e-06 ... -8.11034098e-06\n",
      "   8.34588736e-06 -1.28180436e-06]\n",
      " [ 9.91098353e-06  8.12243573e-06  6.03849354e-06 ... -6.02950189e-06\n",
      "   6.20461504e-06 -9.52936728e-07]\n",
      " ...\n",
      " [-9.89622554e-06 -8.11034098e-06 -6.02950189e-06 ...  6.02052363e-06\n",
      "  -6.19537603e-06  9.51517753e-07]\n",
      " [ 1.01836389e-05  8.34588736e-06  6.20461504e-06 ... -6.19537603e-06\n",
      "   6.37530661e-06 -9.79152419e-07]\n",
      " [-1.56405570e-06 -1.28180436e-06 -9.52936728e-07 ...  9.51517753e-07\n",
      "  -9.79152419e-07  1.50383271e-07]]\n",
      "\n",
      "Stochastic Kalman Filter: \n",
      "xa dim = (3352598, 2)\n",
      " mean = [0.53929534 0.54229785 0.55830053 ... 0.30449291 0.3044919  0.30449359]\n",
      " cov = [[ 3.95647895e-05  3.24248808e-05  2.41057535e-05 ... -2.40698587e-05\n",
      "   2.47689129e-05 -3.80413719e-06]\n",
      " [ 3.24248808e-05  2.65734485e-05  1.97556007e-05 ... -1.97261835e-05\n",
      "   2.02990856e-05 -3.11763810e-06]\n",
      " [ 2.41057535e-05  1.97556007e-05  1.46869820e-05 ... -1.46651123e-05\n",
      "   1.50910270e-05 -2.31775764e-06]\n",
      " ...\n",
      " [-2.40698587e-05 -1.97261835e-05 -1.46651123e-05 ...  1.46432751e-05\n",
      "  -1.50685557e-05  2.31430638e-06]\n",
      " [ 2.47689129e-05  2.02990856e-05  1.50910270e-05 ... -1.50685557e-05\n",
      "   1.55061875e-05 -2.38152013e-06]\n",
      " [-3.80413719e-06 -3.11763810e-06 -2.31775764e-06 ...  2.31430638e-06\n",
      "  -2.38152013e-06  3.65766125e-07]]\n",
      "\n"
     ]
    }
   ],
   "source": [
    "\n",
    "mean1=np.mean(xa1,axis=1)\n",
    "cov1=np.cov(xa1[:1000,:],ddof=1)\n",
    "\n",
    "mean2=np.mean(xa2,axis=1)\n",
    "cov2=np.cov(xa2[:1000,:],ddof=1)\n",
    "\n",
    "mean3=np.mean(xa3,axis=1)\n",
    "cov3=np.cov(xa3[:1000,:],ddof=1)\n",
    "\n",
    "print(\n",
    "    'Square Root Filter: \\n'\n",
    "    'xa dim = {}\\n'.format(xa1.shape),\n",
    "    'mean = {}\\n'.format(mean1),\n",
    "    'cov = {}\\n'.format(cov1)\n",
    "     )\n",
    "\n",
    "print(\n",
    "    'Error Subspace Transform Filter: \\n'\n",
    "    'xa dim = {}\\n'.format(xa2.shape),\n",
    "    'mean = {}\\n'.format(mean2),\n",
    "    'cov = {}\\n'.format(cov2)\n",
    "     )\n",
    "\n",
    "print(\n",
    "    'Stochastic Kalman Filter: \\n'\n",
    "    'xa dim = {}\\n'.format(xa3.shape),\n",
    "    'mean = {}\\n'.format(mean3),\n",
    "    'cov = {}\\n'.format(cov3)\n",
    "     )"
   ]
  }
 ],
 "metadata": {
  "kernelspec": {
   "display_name": "Python 3 (ipykernel)",
   "language": "python",
   "name": "python3"
  },
  "language_info": {
   "codemirror_mode": {
    "name": "ipython",
    "version": 3
   },
   "file_extension": ".py",
   "mimetype": "text/x-python",
   "name": "python",
   "nbconvert_exporter": "python",
   "pygments_lexer": "ipython3",
   "version": "3.10.4"
  }
 },
 "nbformat": 4,
 "nbformat_minor": 5
}
