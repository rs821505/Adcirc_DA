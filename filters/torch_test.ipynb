{
  "cells": [
    {
      "cell_type": "code",
      "execution_count": 1,
      "id": "01651c49",
      "metadata": {},
      "outputs": [],
      "source": [
        "import torch"
      ]
    },
    {
      "cell_type": "code",
      "execution_count": 1,
      "id": "ff4757b1",
      "metadata": {},
      "outputs": [],
      "source": [
        "import h5py\n",
        "import numpy as np\n",
        "import time\n",
        "import os\n",
        "\n",
        "# import filters\n",
        "import Estkf\n",
        "# ,Ensrf,Senkf\n",
        "\n",
        "\n",
        "# import torch_filters\n",
        "# TO DO"
      ]
    },
    {
      "cell_type": "code",
      "execution_count": 3,
      "id": "ad1b9d2e",
      "metadata": {},
      "outputs": [
        {
          "name": "stdout",
          "output_type": "stream",
          "text": [
            "True\n",
            "True\n",
            "False\n"
          ]
        }
      ],
      "source": [
        "# this ensures that the current MacOS version is at least 12.3+\n",
        "print(torch.backends.mps.is_available())\n",
        "# this ensures that the current current PyTorch installation was built with MPS activated.\n",
        "print(torch.backends.mps.is_built())\n",
        "# check if cuda is available\n",
        "print(torch.cuda.is_available())"
      ]
    },
    {
      "cell_type": "code",
      "execution_count": 2,
      "id": "e483682c",
      "metadata": {},
      "outputs": [],
      "source": [
        "def stats(x):\n",
        "    return x.shape, np.mean(x,axis=1), np.cov(x[:1000,:],ddof=1)\n",
        "\n",
        "def close(state_analysis,xb):\n",
        "    return np.allclose(state_analysis.mean(axis=1),xb.mean(axis=1))\n",
        "\n",
        "def timeit(obs_covariance):\n",
        "    \"\"\"\n",
        "    function execution time\n",
        "    \"\"\"\n",
        "    st = time.time()\n",
        "    x = obs_covariance._assimilate()\n",
        "    et = time.time()\n",
        "\n",
        "    # get the execution time\n",
        "    elapsed_time = et - st\n",
        "    \n",
        "    return 'Execution time:', elapsed_time, 'seconds'"
      ]
    },
    {
      "cell_type": "code",
      "execution_count": 2,
      "id": "d77507d4",
      "metadata": {},
      "outputs": [
        {
          "name": "stdout",
          "output_type": "stream",
          "text": [
            "Ensemble state matrix dimensions (ne x nx): (10, 3352598)\n",
            "Observation vector at one time step dimensions: (ny) (11,)\n"
          ]
        }
      ],
      "source": [
        "filename = '/Users/rylanspence/Desktop/Git/Adcirc/Adcirc_Plots/harvey_ensemble_files/example_sim_outputs.npy' \n",
        "\n",
        "with open(filename,'rb') as obs_covariance:\n",
        "    zeta = np.load(obs_covariance)\n",
        "    obs = np.load(obs_covariance)\n",
        "    \n",
        "    \n",
        "print(obs_covariance\"Ensemble state matrix dimensions (ne x nx): {zeta.shape}\")\n",
        "print(obs_covariance\"Observation vector at one time step dimensions: (ny) {obs.shape}\")"
      ]
    },
    {
      "cell_type": "code",
      "execution_count": 27,
      "id": "1fe0ccab",
      "metadata": {},
      "outputs": [
        {
          "name": "stdout",
          "output_type": "stream",
          "text": [
            "(11, 5)\n"
          ]
        }
      ],
      "source": [
        "state_forecast = zeta.T[:,:5]                            # ensemble of state vectors\n",
        "ne = state_forecast.shape[1]                        # number of ensemble members\n",
        "observations = obs                                 # model observations (adcirc output file fort.63.nc)                  \n",
        "model_observations = np.eye(obs.size)[:,:5]           # observation operator ( adcirc output file fort.61.nc)\n",
        "print(model_observations.shape)\n",
        "\n",
        "params = [state_forecast,model_observations,observations]\n",
        "\n",
        "# filter_estkf = Estkf.estkf(*params)\n",
        "# x1 = filter_estkf._assimilate()"
      ]
    },
    {
      "cell_type": "code",
      "execution_count": 25,
      "id": "c05c8e14",
      "metadata": {},
      "outputs": [
        {
          "name": "stdout",
          "output_type": "stream",
          "text": [
            "(3352598, 5)\n"
          ]
        }
      ],
      "source": [
        "print(state_forecast.shape)"
      ]
    },
    {
      "cell_type": "code",
      "execution_count": 20,
      "id": "b3e4190c",
      "metadata": {},
      "outputs": [
        {
          "data": {
            "text/plain": [
              "10"
            ]
          },
          "execution_count": 20,
          "metadata": {},
          "output_type": "execute_result"
        }
      ],
      "source": [
        "ne"
      ]
    },
    {
      "cell_type": "code",
      "execution_count": 28,
      "id": "f1b1f3c2",
      "metadata": {},
      "outputs": [
        {
          "name": "stdout",
          "output_type": "stream",
          "text": [
            "nx 3352598 ne 5 ny 11\n"
          ]
        },
        {
          "ename": "TypeError",
          "evalue": "unsupported operand type(s) for /: 'int' and 'NoneType'",
          "output_type": "error",
          "traceback": [
            "\u001b[0;31m---------------------------------------------------------------------------\u001b[0m",
            "\u001b[0;31mTypeError\u001b[0m                                 Traceback (most recent call last)",
            "\u001b[1;32m/Users/rylanspence/Desktop/Git/Adcirc/Adcirc_DA/filters/torch_test.ipynb Cell 9\u001b[0m in \u001b[0;36m<cell line: 2>\u001b[0;34m()\u001b[0m\n\u001b[1;32m      <a href='vscode-notebook-cell:/Users/rylanspence/Desktop/Git/Adcirc/Adcirc_DA/filters/torch_test.ipynb#X13sZmlsZQ%3D%3D?line=0'>1</a>\u001b[0m filter_estkf \u001b[39m=\u001b[39m Estkf\u001b[39m.\u001b[39mestkf(\u001b[39m*\u001b[39mparams)\n\u001b[0;32m----> <a href='vscode-notebook-cell:/Users/rylanspence/Desktop/Git/Adcirc/Adcirc_DA/filters/torch_test.ipynb#X13sZmlsZQ%3D%3D?line=1'>2</a>\u001b[0m x1 \u001b[39m=\u001b[39m filter_estkf\u001b[39m.\u001b[39;49m_assimilate()\n",
            "File \u001b[0;32m~/Desktop/Git/Adcirc/Adcirc_DA/filters/Estkf.py:29\u001b[0m, in \u001b[0;36mestkf._assimilate\u001b[0;34m(self)\u001b[0m\n\u001b[1;32m     27\u001b[0m \u001b[39mself\u001b[39m\u001b[39m.\u001b[39mget_shape()\n\u001b[1;32m     28\u001b[0m \u001b[39mself\u001b[39m\u001b[39m.\u001b[39mget_means()\n\u001b[0;32m---> 29\u001b[0m wa \u001b[39m=\u001b[39m \u001b[39mself\u001b[39;49m\u001b[39m.\u001b[39;49m_forecast()\n\u001b[1;32m     30\u001b[0m state_analysis \u001b[39m=\u001b[39m \u001b[39mself\u001b[39m\u001b[39m.\u001b[39m_analysis(wa)\n\u001b[1;32m     32\u001b[0m \u001b[39mreturn\u001b[39;00m state_analysis\n",
            "File \u001b[0;32m~/Desktop/Git/Adcirc/Adcirc_DA/filters/Estkf.py:71\u001b[0m, in \u001b[0;36mestkf._forecast\u001b[0;34m(self)\u001b[0m\n\u001b[1;32m     69\u001b[0m \u001b[39m# error in pseudocode, replace L by projection_matrix\u001b[39;00m\n\u001b[1;32m     70\u001b[0m hl \u001b[39m=\u001b[39m \u001b[39mself\u001b[39m\u001b[39m.\u001b[39mmodel_observations\u001b[39m.\u001b[39mdot(projection_matrix)\n\u001b[0;32m---> 71\u001b[0m b1 \u001b[39m=\u001b[39m np\u001b[39m.\u001b[39mdiag(\u001b[39m1\u001b[39;49m \u001b[39m/\u001b[39;49m \u001b[39mself\u001b[39;49m\u001b[39m.\u001b[39;49mobs_covariance)\u001b[39m.\u001b[39mdot(hl)\n\u001b[1;32m     72\u001b[0m c1 \u001b[39m=\u001b[39m (\u001b[39mself\u001b[39m\u001b[39m.\u001b[39mne \u001b[39m-\u001b[39m \u001b[39m1\u001b[39m) \u001b[39m*\u001b[39m np\u001b[39m.\u001b[39midentity(\u001b[39mself\u001b[39m\u001b[39m.\u001b[39mne \u001b[39m-\u001b[39m \u001b[39m1\u001b[39m)\n\u001b[1;32m     73\u001b[0m c2 \u001b[39m=\u001b[39m \u001b[39mself\u001b[39m\u001b[39m.\u001b[39minf_fact \u001b[39m*\u001b[39m c1 \u001b[39m+\u001b[39m hl\u001b[39m.\u001b[39mt\u001b[39m.\u001b[39mdot(b1)\n",
            "\u001b[0;31mTypeError\u001b[0m: unsupported operand type(s) for /: 'int' and 'NoneType'"
          ]
        }
      ],
      "source": [
        "filter_estkf = Estkf.estkf(*params)\n",
        "x1 = filter_estkf._assimilate()\n",
        "# torch_estkf = ESTKFT(*params)\n",
        "\n",
        "# x2 = torch_estkf._assimilate()"
      ]
    },
    {
      "cell_type": "code",
      "execution_count": 16,
      "id": "6e27f25f",
      "metadata": {
        "collapsed": true
      },
      "outputs": [
        {
          "ename": "NameError",
          "evalue": "name 'x1' is not defined",
          "output_type": "error",
          "traceback": [
            "\u001b[0;31m---------------------------------------------------------------------------\u001b[0m",
            "\u001b[0;31mNameError\u001b[0m                                 Traceback (most recent call last)",
            "\u001b[1;32m/Users/rylanspence/Desktop/Git/Adcirc/Adcirc_DA/filters/torch_test.ipynb Cell 10\u001b[0m in \u001b[0;36m<cell line: 1>\u001b[0;34m()\u001b[0m\n\u001b[0;32m----> <a href='vscode-notebook-cell:/Users/rylanspence/Desktop/Git/Adcirc/Adcirc_DA/filters/torch_test.ipynb#X14sZmlsZQ%3D%3D?line=0'>1</a>\u001b[0m \u001b[39mprint\u001b[39m(stats(x1),\u001b[39m\"\u001b[39m\u001b[39m\\n\u001b[39;00m\u001b[39m\"\u001b[39m)\n",
            "\u001b[0;31mNameError\u001b[0m: name 'x1' is not defined"
          ]
        }
      ],
      "source": [
        "print(stats(x1),\"\\n\")\n",
        "# print(stats(x2),\"\\n\")\n",
        "# print(close(x1,x2),\"\\n\")\n",
        "# print(timeit(filter_estkf))\n",
        "# print(timeit(torch_estkf))"
      ]
    },
    {
      "cell_type": "code",
      "execution_count": 9,
      "id": "684d36c7",
      "metadata": {},
      "outputs": [],
      "source": [
        "filter_ensrf = EnSRF(*params)\n",
        "x3 = filter_ensrf._assimilate()\n",
        "torch_ensrf = EnSRFT(*params)\n",
        "x4 = torch_ensrf._assimilate()"
      ]
    },
    {
      "cell_type": "code",
      "execution_count": 10,
      "id": "fc72d3ad",
      "metadata": {
        "collapsed": true
      },
      "outputs": [
        {
          "name": "stdout",
          "output_type": "stream",
          "text": [
            "((3352598, 2), array([0.54154072+0.j, 0.54413802+0.j, 0.55966858+0.j, ...,\n",
            "       0.30275894+0.j, 0.30275792+0.j, 0.30275961+0.j]), array([[ 1.62669040e-05+0.j,  1.33313593e-05+0.j,  9.91098353e-06+0.j,\n",
            "        ..., -9.89622554e-06+0.j,  1.01836389e-05+0.j,\n",
            "        -1.56405570e-06+0.j],\n",
            "       [ 1.33313593e-05+0.j,  1.09255664e-05+0.j,  8.12243573e-06+0.j,\n",
            "        ..., -8.11034098e-06+0.j,  8.34588736e-06+0.j,\n",
            "        -1.28180436e-06+0.j],\n",
            "       [ 9.91098353e-06+0.j,  8.12243573e-06+0.j,  6.03849354e-06+0.j,\n",
            "        ..., -6.02950189e-06+0.j,  6.20461504e-06+0.j,\n",
            "        -9.52936728e-07+0.j],\n",
            "       ...,\n",
            "       [-9.89622554e-06+0.j, -8.11034098e-06+0.j, -6.02950189e-06+0.j,\n",
            "        ...,  6.02052363e-06+0.j, -6.19537603e-06+0.j,\n",
            "         9.51517753e-07+0.j],\n",
            "       [ 1.01836389e-05+0.j,  8.34588736e-06+0.j,  6.20461504e-06+0.j,\n",
            "        ..., -6.19537603e-06+0.j,  6.37530661e-06+0.j,\n",
            "        -9.79152419e-07+0.j],\n",
            "       [-1.56405570e-06+0.j, -1.28180436e-06+0.j, -9.52936728e-07+0.j,\n",
            "        ...,  9.51517753e-07+0.j, -9.79152419e-07+0.j,\n",
            "         1.50383271e-07+0.j]]))\n",
            "((3352598, 2), array([0.54154072, 0.54413802, 0.55966858, ..., 0.30275894, 0.30275792,\n",
            "       0.30275961]), array([[ 1.62669040e-05,  1.33313593e-05,  9.91098353e-06, ...,\n",
            "        -9.89622554e-06,  1.01836389e-05, -1.56405570e-06],\n",
            "       [ 1.33313593e-05,  1.09255664e-05,  8.12243573e-06, ...,\n",
            "        -8.11034098e-06,  8.34588736e-06, -1.28180436e-06],\n",
            "       [ 9.91098353e-06,  8.12243573e-06,  6.03849354e-06, ...,\n",
            "        -6.02950189e-06,  6.20461504e-06, -9.52936728e-07],\n",
            "       ...,\n",
            "       [-9.89622554e-06, -8.11034098e-06, -6.02950189e-06, ...,\n",
            "         6.02052363e-06, -6.19537603e-06,  9.51517753e-07],\n",
            "       [ 1.01836389e-05,  8.34588736e-06,  6.20461504e-06, ...,\n",
            "        -6.19537603e-06,  6.37530661e-06, -9.79152419e-07],\n",
            "       [-1.56405570e-06, -1.28180436e-06, -9.52936728e-07, ...,\n",
            "         9.51517753e-07, -9.79152419e-07,  1.50383271e-07]])) \n",
            "\n",
            "True \n",
            "\n",
            "('Execution time:', 0.07562875747680664, 'seconds')\n",
            "('Execution time:', 0.021867036819458008, 'seconds')\n"
          ]
        }
      ],
      "source": [
        "print(stats(x3))\n",
        "print(stats(x4),\"\\n\")\n",
        "print(close(x3,x4),\"\\n\")\n",
        "print(timeit(filter_ensrf))\n",
        "print(timeit(torch_ensrf))"
      ]
    },
    {
      "cell_type": "code",
      "execution_count": 11,
      "id": "7b15824e",
      "metadata": {},
      "outputs": [],
      "source": [
        "filter_senkf = SEnKF(*params)\n",
        "x5 = filter_senkf._assimilate()\n",
        "torch_senkf = SEnKFT(*params)\n",
        "x6 = torch_senkf._assimilate()"
      ]
    },
    {
      "cell_type": "code",
      "execution_count": 12,
      "id": "e92853b5",
      "metadata": {
        "collapsed": true
      },
      "outputs": [
        {
          "name": "stdout",
          "output_type": "stream",
          "text": [
            "((3352598, 2), array([0.54390396, 0.54607479, 0.56110844, ..., 0.30093394, 0.30093293,\n",
            "       0.30093462]), array([[ 3.04915212e-08,  2.49889852e-08,  1.85776571e-08, ...,\n",
            "        -1.85499939e-08,  1.90887363e-08, -2.93174641e-09],\n",
            "       [ 2.49889852e-08,  2.04794434e-08,  1.52251111e-08, ...,\n",
            "        -1.52024401e-08,  1.56439604e-08, -2.40267999e-09],\n",
            "       [ 1.85776571e-08,  1.52251111e-08,  1.13188627e-08, ...,\n",
            "        -1.13020083e-08,  1.16302494e-08, -1.78623360e-09],\n",
            "       ...,\n",
            "       [-1.85499939e-08, -1.52024401e-08, -1.13020083e-08, ...,\n",
            "         1.12851790e-08, -1.16129314e-08,  1.78357380e-09],\n",
            "       [ 1.90887363e-08,  1.56439604e-08,  1.16302494e-08, ...,\n",
            "        -1.16129314e-08,  1.19502025e-08, -1.83537364e-09],\n",
            "       [-2.93174641e-09, -2.40267999e-09, -1.78623360e-09, ...,\n",
            "         1.78357380e-09, -1.83537364e-09,  2.81886134e-10]]))\n",
            "((3352598, 2), array([0.54103649, 0.54372479, 0.55936137, ..., 0.30314833, 0.30314731,\n",
            "       0.303149  ]), array([[ 6.36153926e-06,  5.21352837e-06,  3.87591339e-06, ...,\n",
            "        -3.87014194e-06,  3.98254140e-06, -6.11659215e-07],\n",
            "       [ 5.21352837e-06,  4.27268888e-06,  3.17646148e-06, ...,\n",
            "        -3.17173155e-06,  3.26384727e-06, -5.01278471e-07],\n",
            "       [ 3.87591339e-06,  3.17646148e-06,  2.36148893e-06, ...,\n",
            "        -2.35797255e-06,  2.42645449e-06, -3.72667375e-07],\n",
            "       ...,\n",
            "       [-3.87014194e-06, -3.17173155e-06, -2.35797255e-06, ...,\n",
            "         2.35446140e-06, -2.42284137e-06,  3.72112453e-07],\n",
            "       [ 3.98254140e-06,  3.26384727e-06,  2.42645449e-06, ...,\n",
            "        -2.42284137e-06,  2.49320727e-06, -3.82919612e-07],\n",
            "       [-6.11659215e-07, -5.01278471e-07, -3.72667375e-07, ...,\n",
            "         3.72112453e-07, -3.82919612e-07,  5.88107658e-08]])) \n",
            "\n",
            "False \n",
            "\n",
            "('Execution time:', 0.03147697448730469, 'seconds')\n",
            "('Execution time:', 0.3516058921813965, 'seconds')\n"
          ]
        }
      ],
      "source": [
        "print(stats(x5))\n",
        "print(stats(x6),\"\\n\")\n",
        "print(close(x5,x6),\"\\n\")\n",
        "print(timeit(filter_senkf))\n",
        "print(timeit(torch_senkf))"
      ]
    },
    {
      "cell_type": "code",
      "execution_count": null,
      "id": "7344b21a",
      "metadata": {},
      "outputs": [],
      "source": []
    }
  ],
  "metadata": {
    "kernelspec": {
      "display_name": "Python 3.10.6 ('adcirc_da')",
      "language": "python",
      "name": "python3"
    },
    "language_info": {
      "codemirror_mode": {
        "name": "ipython",
        "version": 3
      },
      "file_extension": ".py",
      "mimetype": "text/x-python",
      "name": "python",
      "nbconvert_exporter": "python",
      "pygments_lexer": "ipython3",
      "version": "3.10.6"
    },
    "vscode": {
      "interpreter": {
        "hash": "24ee0319bd6cf8b9e4b54769d36aed8c682da8c9060013a629b0444814030e52"
      }
    }
  },
  "nbformat": 4,
  "nbformat_minor": 5
}
