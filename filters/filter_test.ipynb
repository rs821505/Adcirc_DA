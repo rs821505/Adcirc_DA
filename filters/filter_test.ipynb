{
  "cells": [
    {
      "cell_type": "code",
      "execution_count": 1,
      "id": "01651c49",
      "metadata": {},
      "outputs": [
        {
          "name": "stdout",
          "output_type": "stream",
          "text": [
            "True\n",
            "True\n",
            "False\n"
          ]
        },
        {
          "name": "stderr",
          "output_type": "stream",
          "text": [
            "/Users/rylanspence/opt/anaconda3/envs/diffusion/lib/python3.10/site-packages/tqdm/auto.py:22: TqdmWarning: IProgress not found. Please update jupyter and ipywidgets. See https://ipywidgets.readthedocs.io/en/stable/user_install.html\n",
            "  from .autonotebook import tqdm as notebook_tqdm\n"
          ]
        }
      ],
      "source": [
        "import torch\n",
        "\n",
        "# this ensures that the current MacOS version is at least 12.3+\n",
        "print(torch.backends.mps.is_available())\n",
        "# this ensures that the current current PyTorch installation was built with MPS activated.\n",
        "print(torch.backends.mps.is_built())\n",
        "# check if cuda is available\n",
        "print(torch.cuda.is_available())"
      ]
    },
    {
      "cell_type": "code",
      "execution_count": 2,
      "id": "ff4757b1",
      "metadata": {},
      "outputs": [],
      "source": [
        "import h5py\n",
        "import numpy as np\n",
        "import time\n",
        "import os\n",
        "\n",
        "# import filters\n",
        "import Estkf,Ensrf,Senkf\n",
        "import Estkf_torch,Ensrf_torch,Senkf_torch\n",
        "\n"
      ]
    },
    {
      "cell_type": "code",
      "execution_count": 3,
      "id": "e483682c",
      "metadata": {},
      "outputs": [],
      "source": [
        "def stats(x):\n",
        "    return x.shape, np.mean(x,axis=1), np.cov(x[:1000,:],ddof=1)\n",
        "\n",
        "def close(state_analysis,xb):\n",
        "    return np.allclose(state_analysis.mean(axis=1),xb.mean(axis=1))\n",
        "\n",
        "def timeit(filter,filter_object):\n",
        "    \"\"\"\n",
        "    function execution time\n",
        "    \"\"\"\n",
        "    st = time.time()\n",
        "    x = filter_object._assimilate()\n",
        "    et = time.time()\n",
        "\n",
        "    # get the execution time\n",
        "    elapsed_time = et - st\n",
        "    \n",
        "    return f\"Filter: {filter.__name__} Execution time: {elapsed_time} seconds\""
      ]
    },
    {
      "cell_type": "code",
      "execution_count": 4,
      "id": "d77507d4",
      "metadata": {},
      "outputs": [
        {
          "name": "stdout",
          "output_type": "stream",
          "text": [
            "Ensemble state matrix dimensions (ne x nx): (10, 3352598)\n",
            "Observation vector at one time step dimensions: (ny) (11,)\n"
          ]
        }
      ],
      "source": [
        "hf = h5py.File('../data/example_sim_outputs.h5',\"r\")\n",
        "zeta = np.array(hf.get('zeta'))\n",
        "obs = np.array(hf.get('obs'))\n",
        "    \n",
        "print(f\"Ensemble state matrix dimensions (ne x nx): {zeta.shape}\")\n",
        "print(f\"Observation vector at one time step dimensions: (ny) {obs.shape}\")\n",
        "\n",
        "\n",
        "state_forecast = zeta.T[:,:5]                            # ensemble of state vectors\n",
        "observations = obs                                      # model observations (adcirc output file fort.63.nc)                  \n",
        "model_observations = np.eye(obs.size)[:,:5]             # observation operator ( adcirc output file fort.61.nc)\n",
        "\n",
        "params = [state_forecast,model_observations,observations]"
      ]
    },
    {
      "cell_type": "code",
      "execution_count": 8,
      "id": "f1b1f3c2",
      "metadata": {},
      "outputs": [
        {
          "name": "stdout",
          "output_type": "stream",
          "text": [
            "Filter: Estkf Execution time: 0.25817012786865234 seconds\n",
            "Filter: Ensrf Execution time: 0.3384850025177002 seconds\n",
            "Filter: Senkf Execution time: 0.06730914115905762 seconds\n",
            "Filter: Estkf_torch Execution time: 0.15881013870239258 seconds\n",
            "Filter: Ensrf_torch Execution time: 0.08200287818908691 seconds\n",
            "Filter: Senkf_torch Execution time: 0.07541608810424805 seconds\n"
          ]
        }
      ],
      "source": [
        "filters = [Estkf,Ensrf,Senkf,Estkf_torch,Ensrf_torch,Senkf_torch]\n",
        "\n",
        "for i, filter in enumerate(filters):\n",
        "    filter_class= getattr(filter,filter.__name__.lower())\n",
        "    filter_object= filter_class(*params)\n",
        "    print(timeit(filter,filter_object))\n",
        "   "
      ]
    },
    {
      "cell_type": "code",
      "execution_count": 7,
      "id": "6e27f25f",
      "metadata": {
        "collapsed": true
      },
      "outputs": [],
      "source": [
        "# print(stats(x1),\"\\n\")\n",
        "# print(stats(x2),\"\\n\")\n",
        "# print(close(x1,x2),\"\\n\")\n"
      ]
    },
    {
      "cell_type": "code",
      "execution_count": null,
      "id": "7344b21a",
      "metadata": {},
      "outputs": [],
      "source": []
    }
  ],
  "metadata": {
    "kernelspec": {
      "display_name": "Python 3.10.8 ('diffusion')",
      "language": "python",
      "name": "python3"
    },
    "language_info": {
      "codemirror_mode": {
        "name": "ipython",
        "version": 3
      },
      "file_extension": ".py",
      "mimetype": "text/x-python",
      "name": "python",
      "nbconvert_exporter": "python",
      "pygments_lexer": "ipython3",
      "version": "3.10.8"
    },
    "vscode": {
      "interpreter": {
        "hash": "966cf854f4dc86e7be1760483f3dec0205154ba09135847d466df256d6af4361"
      }
    }
  },
  "nbformat": 4,
  "nbformat_minor": 5
}
